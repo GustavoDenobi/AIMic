{
  "nbformat": 4,
  "nbformat_minor": 0,
  "metadata": {
    "colab": {
      "name": "Models.ipynb",
      "provenance": [],
      "collapsed_sections": [
        "DTJD8gOm3T5h"
      ],
      "toc_visible": true,
      "machine_shape": "hm",
      "include_colab_link": true
    },
    "kernelspec": {
      "name": "python3",
      "display_name": "Python 3"
    },
    "accelerator": "GPU"
  },
  "cells": [
    {
      "cell_type": "markdown",
      "metadata": {
        "id": "view-in-github",
        "colab_type": "text"
      },
      "source": [
        "<a href=\"https://colab.research.google.com/github/GustavoDenobi/AIMic/blob/master/Models.ipynb\" target=\"_parent\"><img src=\"https://colab.research.google.com/assets/colab-badge.svg\" alt=\"Open In Colab\"/></a>"
      ]
    },
    {
      "cell_type": "markdown",
      "metadata": {
        "id": "eqlKcKdH0dk4",
        "colab_type": "text"
      },
      "source": [
        "# Neural Network modelling and training"
      ]
    },
    {
      "cell_type": "markdown",
      "metadata": {
        "id": "HdNJOIhx7U8j",
        "colab_type": "text"
      },
      "source": [
        "This notebook comprises the development of Convolutional Neural Networks intended to be used to classify audio. The generation of the dataset used here was done separately and can't be made public, for protection of the original voice contributions."
      ]
    },
    {
      "cell_type": "markdown",
      "metadata": {
        "id": "g2JCMyhn1MiR",
        "colab_type": "text"
      },
      "source": [
        "## Imports"
      ]
    },
    {
      "cell_type": "markdown",
      "metadata": {
        "id": "gbdtyvpo7DGd",
        "colab_type": "text"
      },
      "source": [
        "The following cell performs most of the imports in this notebook, and also defines `strategy` for use during training."
      ]
    },
    {
      "cell_type": "code",
      "metadata": {
        "id": "Zl30YrpS1AOm",
        "colab_type": "code",
        "outputId": "d3507c12-0983-446f-d17c-cbb687998599",
        "colab": {
          "base_uri": "https://localhost:8080/",
          "height": 292
        }
      },
      "source": [
        "import os\n",
        "import sys\n",
        "import random\n",
        "import numpy as np\n",
        "import pandas as pd\n",
        "from scipy import signal\n",
        "from scipy.io import wavfile\n",
        "from IPython.display import Audio\n",
        "import matplotlib.pyplot as plt\n",
        "import IPython\n",
        "from google.colab import output\n",
        "import time\n",
        "import csv\n",
        "!pip install 'librosa==0.7.2'\n",
        "import librosa as lib\n",
        "import tensorflow as tf\n",
        "from tensorflow import keras\n",
        "from tensorflow.keras.models import Sequential\n",
        "from tensorflow.keras.layers import Dense, Conv2D, Flatten, MaxPool2D, Dropout\n",
        "from tensorflow.keras.utils import plot_model, Sequence\n",
        "from tensorflow.keras import regularizers\n",
        "from tensorflow.distribute import Strategy, MirroredStrategy\n",
        "from tensorflow.distribute.experimental import TPUStrategy, MultiWorkerMirroredStrategy\n",
        "import math\n",
        "#resolver = tf.distribute.cluster_resolver.TPUClusterResolver(tpu='grpc://' + os.environ['COLAB_TPU_ADDR'])\n",
        "#tf.config.experimental_connect_to_cluster(resolver)\n",
        "# This is the TPU initialization code that has to be at the beginning.\n",
        "#tf.tpu.experimental.initialize_tpu_system(resolver)\n",
        "strategy = tf.distribute.OneDeviceStrategy(device=\"/gpu:0\")"
      ],
      "execution_count": 0,
      "outputs": [
        {
          "output_type": "stream",
          "text": [
            "Requirement already satisfied: librosa==0.7.2 in /usr/local/lib/python3.6/dist-packages (0.7.2)\n",
            "Requirement already satisfied: audioread>=2.0.0 in /usr/local/lib/python3.6/dist-packages (from librosa==0.7.2) (2.1.8)\n",
            "Requirement already satisfied: numpy>=1.15.0 in /usr/local/lib/python3.6/dist-packages (from librosa==0.7.2) (1.18.4)\n",
            "Requirement already satisfied: resampy>=0.2.2 in /usr/local/lib/python3.6/dist-packages (from librosa==0.7.2) (0.2.2)\n",
            "Requirement already satisfied: decorator>=3.0.0 in /usr/local/lib/python3.6/dist-packages (from librosa==0.7.2) (4.4.2)\n",
            "Requirement already satisfied: soundfile>=0.9.0 in /usr/local/lib/python3.6/dist-packages (from librosa==0.7.2) (0.10.3.post1)\n",
            "Requirement already satisfied: scikit-learn!=0.19.0,>=0.14.0 in /usr/local/lib/python3.6/dist-packages (from librosa==0.7.2) (0.22.2.post1)\n",
            "Requirement already satisfied: scipy>=1.0.0 in /usr/local/lib/python3.6/dist-packages (from librosa==0.7.2) (1.4.1)\n",
            "Requirement already satisfied: six>=1.3 in /usr/local/lib/python3.6/dist-packages (from librosa==0.7.2) (1.12.0)\n",
            "Requirement already satisfied: numba>=0.43.0 in /usr/local/lib/python3.6/dist-packages (from librosa==0.7.2) (0.48.0)\n",
            "Requirement already satisfied: joblib>=0.12 in /usr/local/lib/python3.6/dist-packages (from librosa==0.7.2) (0.14.1)\n",
            "Requirement already satisfied: cffi>=1.0 in /usr/local/lib/python3.6/dist-packages (from soundfile>=0.9.0->librosa==0.7.2) (1.14.0)\n",
            "Requirement already satisfied: setuptools in /usr/local/lib/python3.6/dist-packages (from numba>=0.43.0->librosa==0.7.2) (46.3.0)\n",
            "Requirement already satisfied: llvmlite<0.32.0,>=0.31.0dev0 in /usr/local/lib/python3.6/dist-packages (from numba>=0.43.0->librosa==0.7.2) (0.31.0)\n",
            "Requirement already satisfied: pycparser in /usr/local/lib/python3.6/dist-packages (from cffi>=1.0->soundfile>=0.9.0->librosa==0.7.2) (2.20)\n"
          ],
          "name": "stdout"
        }
      ]
    },
    {
      "cell_type": "markdown",
      "metadata": {
        "id": "b9zySX3U04WJ",
        "colab_type": "text"
      },
      "source": [
        "## Miscelaneous"
      ]
    },
    {
      "cell_type": "markdown",
      "metadata": {
        "id": "Oas-m5H-okXM",
        "colab_type": "text"
      },
      "source": [
        "### Google Drive storage\n",
        "If you want to download info generated in this notebook, like neural networks checkpoints, do the following in the next cells:\n",
        "- Define `gdrive_path`, the path in your Google Drive where files should be stored.\n",
        "- Run the cell and follow the authorization steps."
      ]
    },
    {
      "cell_type": "code",
      "metadata": {
        "id": "vwhOyP-70onG",
        "colab_type": "code",
        "outputId": "c73b97f6-68a7-4412-c92b-0ff2ab6a6bfd",
        "colab": {
          "base_uri": "https://localhost:8080/",
          "height": 34
        }
      },
      "source": [
        "from google.colab import drive\n",
        "import os\n",
        "drive.mount(\"/content/drive\", force_remount=True)"
      ],
      "execution_count": 0,
      "outputs": [
        {
          "output_type": "stream",
          "text": [
            "Mounted at /content/drive\n"
          ],
          "name": "stdout"
        }
      ]
    },
    {
      "cell_type": "code",
      "metadata": {
        "id": "-b2mKEWivKU7",
        "colab_type": "code",
        "colab": {}
      },
      "source": [
        "gdrive_path = \"Eng Mecatrônica/5o Ano/TCC/\"\n",
        "work_path = os.path.join(\"/content/drive/My Drive\", gdrive_path)"
      ],
      "execution_count": 0,
      "outputs": []
    },
    {
      "cell_type": "markdown",
      "metadata": {
        "id": "tb0GWSujnCvA",
        "colab_type": "text"
      },
      "source": [
        "### Importing the dataset"
      ]
    },
    {
      "cell_type": "code",
      "metadata": {
        "id": "hziE5qmKxXTk",
        "colab_type": "code",
        "outputId": "031498a2-3a73-4a3b-bace-518ccfc689fc",
        "colab": {
          "base_uri": "https://localhost:8080/",
          "height": 102
        }
      },
      "source": [
        "# SP2ALL 4:1\n",
        "!gdown https://drive.google.com/uc?id=14MvhRaU8CUrGM8U3GRingeEwtygjequk\n",
        "\n",
        "!unzip -q GENERATED.zip\n",
        "!rm GENERATED"
      ],
      "execution_count": 0,
      "outputs": [
        {
          "output_type": "stream",
          "text": [
            "Downloading...\n",
            "From: https://drive.google.com/uc?id=14MvhRaU8CUrGM8U3GRingeEwtygjequk\n",
            "To: /content/GENERATED.zip\n",
            "16.4GB [06:22, 42.8MB/s]\n",
            "rm: cannot remove 'GENERATED': Is a directory\n"
          ],
          "name": "stdout"
        }
      ]
    },
    {
      "cell_type": "code",
      "metadata": {
        "id": "a1d5GvRapCit",
        "colab_type": "code",
        "colab": {}
      },
      "source": [
        "!rm GENERATED/000028-000.wav"
      ],
      "execution_count": 0,
      "outputs": []
    },
    {
      "cell_type": "markdown",
      "metadata": {
        "id": "2gz8gGk9iAYk",
        "colab_type": "text"
      },
      "source": [
        "## Data management classes"
      ]
    },
    {
      "cell_type": "markdown",
      "metadata": {
        "id": "O8LnXZpOqknW",
        "colab_type": "text"
      },
      "source": [
        "Following, there are 3 classes, designed to work together as an interface between the dataset and the neural networks.\n",
        "\n",
        "- `AudioHandler` deals with audio file reading and the spectrogram;\n",
        "- `DataSequence` extends the `Sequence` class, and is use to provide training samples to the networks on demand, instead of buffering the whole dataset at once;\n",
        "- `DatasetHandler` wraps both previous classes, deals with initialization and validation data buffering;"
      ]
    },
    {
      "cell_type": "code",
      "metadata": {
        "id": "9AtDEbxQ28f7",
        "colab_type": "code",
        "colab": {}
      },
      "source": [
        "class AudioHandler(object):\n",
        "    def __init__(self, dataset_dir, sr = 22050):\n",
        "        self.dataset_dir = dataset_dir\n",
        "        self.sr = sr\n",
        "        print('Audio Handler initialized.')\n",
        "\n",
        "    def spectrogram_deprecated(self, samples, sample_rate = 22050, stride_ms = 10.0, window_ms = 20.0, max_freq = None, eps = 1e-14):\n",
        "        \n",
        "        stride_size = int(0.001 * sample_rate * stride_ms)\n",
        "        window_size = int(0.001 * sample_rate * window_ms)\n",
        "\n",
        "        # Extract strided windows\n",
        "        truncate_size = (len(samples) - window_size) % stride_size\n",
        "        samples = samples[:len(samples) - truncate_size]\n",
        "        nshape = (window_size, (len(samples) - window_size) // stride_size + 1)\n",
        "        nstrides = (samples.strides[0], samples.strides[0] * stride_size)\n",
        "        windows = np.lib.stride_tricks.as_strided(samples, \n",
        "                                            shape = nshape, strides = nstrides)\n",
        "        \n",
        "        assert np.all(windows[:, 1] == samples[stride_size:(stride_size + window_size)])\n",
        "\n",
        "        # Window weighting, squared Fast Fourier Transform (fft), scaling\n",
        "        weighting = np.hanning(window_size)[:, None]\n",
        "        \n",
        "        fft = np.fft.rfft(windows * weighting, axis=0)\n",
        "        fft = np.absolute(fft)\n",
        "        fft = fft**2\n",
        "        \n",
        "        scale = np.sum(weighting**2) * sample_rate\n",
        "        fft[1:-1, :] *= (2.0 / scale)\n",
        "        fft[(0, -1), :] /= scale\n",
        "        \n",
        "        # Prepare fft frequency list\n",
        "        freqs = float(sample_rate) / window_size * np.arange(fft.shape[0])\n",
        "        \n",
        "        # Compute spectrogram feature\n",
        "        max_freq = sample_rate/2\n",
        "        ind = np.where(freqs <= max_freq)[0][-1] + 1\n",
        "        specgram = np.log(fft[:ind, :] + eps)\n",
        "        return specgram\n",
        "\n",
        "    def spectrogram(self, samples, sample_rate = 22050):\n",
        "        return lib.feature.melspectrogram(samples, sr=sample_rate)\n",
        "\n",
        "    def get_sample(self, filename):\n",
        "        try:\n",
        "            filepath = os.path.join(self.dataset_dir, filename)\n",
        "            sample_rate, samples = wavfile.read(filepath)\n",
        "            specgram = self.spectrogram(samples)\n",
        "            return specgram\n",
        "        except ValueError:\n",
        "            print(filename)\n",
        "\n",
        "    def get_raw_audio(self, filename, sr=22050):\n",
        "        filepath = os.path.join(self.dataset_dir, filename)\n",
        "        sample_rate, samples = wavfile.read(filepath)\n",
        "        self.show_audio_player(samples)\n",
        "\n",
        "    def show_audio_player(self, filename):\n",
        "        IPython.display.display(Audio(filename))"
      ],
      "execution_count": 0,
      "outputs": []
    },
    {
      "cell_type": "code",
      "metadata": {
        "id": "jreLnLVQ4Ad7",
        "colab_type": "code",
        "colab": {}
      },
      "source": [
        "class DataSequence(Sequence):\n",
        "\n",
        "    def __init__(self, filelist, batch_size, x_sel, y_sel):\n",
        "        self.dataset_dir = \"/content/GENERATED\"\n",
        "        self.audio = AudioHandler(self.dataset_dir)\n",
        "        self.batch_size = batch_size\n",
        "        self.x = self.get_input(filelist, x_sel)\n",
        "        self.y = self.get_labels(self.x, y_sel)\n",
        "        print('DataSequence initialized.')\n",
        "\n",
        "    def get_input(self, filelist, select):\n",
        "        if select == 'all':\n",
        "            return filelist\n",
        "        else:\n",
        "            x = []\n",
        "            for f in filelist:\n",
        "                sample = f.split('-')[1].split('.')[0]\n",
        "                has_speech = True if sample[0] == '1' else False\n",
        "                has_multi = True if sample[1] == '1' else False\n",
        "                has_activation = True if sample[2] == '1' else False\n",
        "                if select == 'speech' and has_speech:\n",
        "                    x.append(f)\n",
        "                if select == 'multivoice' and has_multi:\n",
        "                    x.append(f)\n",
        "                if select == 'activation' and has_activation:\n",
        "                    x.append(f)\n",
        "            return x\n",
        "\n",
        "    def get_labels(self, filelist, select):\n",
        "        y = []\n",
        "        for sample in filelist:\n",
        "            sample = sample.split('-')[1].split('.')[0]\n",
        "            has_speech = 1 if sample[0] == '1' else 0\n",
        "            has_multi = 1 if sample[1] == '1' else 0\n",
        "            has_activation = 1 if sample[2] == '1' else 0\n",
        "            if select == 'speech':\n",
        "                y.append(has_speech)\n",
        "            if select == 'multivoice':\n",
        "                y.append(has_multi)\n",
        "            if select == 'activation':\n",
        "                y.append(has_activation)\n",
        "        return y\n",
        "\n",
        "    def __len__(self):\n",
        "        return math.ceil(len(self.x) / self.batch_size)\n",
        "\n",
        "    def __getitem__(self, idx):\n",
        "        batch_x = self.x[idx * self.batch_size:(idx + 1) *\n",
        "        self.batch_size]\n",
        "        batch_y = self.y[idx * self.batch_size:(idx + 1) *\n",
        "        self.batch_size]\n",
        "\n",
        "        return np.array([\n",
        "            np.expand_dims(self.audio.get_sample(file_name), axis=2)\n",
        "                for file_name in batch_x]), np.array(batch_y)"
      ],
      "execution_count": 0,
      "outputs": []
    },
    {
      "cell_type": "code",
      "metadata": {
        "id": "Pna1MacIh_oI",
        "colab_type": "code",
        "colab": {}
      },
      "source": [
        "class DatasetHandler(object):\n",
        "    def __init__(self, batch_size = 32, test_proportion = 0.1, x_sel = 'all', y_sel = 'speech'):\n",
        "        assert(x_sel in ['all', 'speech'])\n",
        "        assert(y_sel in ['speech', 'multivoice', 'activation'])\n",
        "        assert(x_sel != y_sel)\n",
        "        self.dataset_dir = \"/content/GENERATED\"\n",
        "        self.audio = AudioHandler(self.dataset_dir)\n",
        "        self.samples = self.get_sets(test_proportion)\n",
        "        self.train_seq = DataSequence(self.samples['train'], batch_size, x_sel, y_sel)\n",
        "        self.test_set = self.buffer_files(self.samples['test'], x_sel, y_sel)\n",
        "        print('DatasetHandler initialized.')\n",
        "\n",
        "    def get_sets(self, test_proportion):\n",
        "        train = os.listdir(self.dataset_dir)\n",
        "        train.sort()\n",
        "        test = []\n",
        "        for i in range(int(len(train)*test_proportion)):\n",
        "            test.append(train.pop(i))\n",
        "        return {'train': train, 'test': test}\n",
        "\n",
        "    def buffer_files(self, files, x_sel, y_sel):\n",
        "        x = []\n",
        "        y = []\n",
        "        for f in files:\n",
        "            sample = f.split('-')[1].split('.')[0]\n",
        "            has_speech = 1 if sample[0] == '1' else 0\n",
        "            has_multi = 1 if sample[1] == '1' else 0\n",
        "            has_activation = 1 if sample[2] == '1' else 0\n",
        "            if x_sel == 'all':\n",
        "                x.append(np.expand_dims(self.audio.get_sample(f), axis=2))\n",
        "                if y_sel == 'speech':\n",
        "                    y.append(has_speech)\n",
        "                elif y_sel == 'multivoice':\n",
        "                    y.append(has_multi)\n",
        "                elif y_sel == 'activation':\n",
        "                    y.append(has_activation)\n",
        "            elif x_sel == 'speech' and has_speech == 1:\n",
        "                x.append(np.expand_dims(self.audio.get_sample(f), axis=2))\n",
        "                if y_sel == 'speech':\n",
        "                    y.append(has_speech)\n",
        "                elif y_sel == 'multivoice':\n",
        "                    y.append(has_multi)\n",
        "                elif y_sel == 'activation':\n",
        "                    y.append(has_activation)\n",
        "        return np.array(x), np.array(y)\n",
        "\n",
        "    def get_sample_from_test(self, index):\n",
        "        if index < 0 or index > len(self.samples['train']):\n",
        "            return False\n",
        "        sample = self.samples['train'][index].split('-')[1].split('.')[0]\n",
        "        has_speech = 1 if sample[0] == '1' else 0\n",
        "        has_multi = 1 if sample[1] == '1' else 0\n",
        "        has_activation = 1 if sample[2] == '1' else 0\n",
        "        y = 0\n",
        "        if y_sel == 'speech':\n",
        "            y = has_speech\n",
        "        elif y_sel == 'multivoice':\n",
        "            y = has_multi\n",
        "        elif y_sel == 'activation':\n",
        "            y = has_activation\n",
        "        return self.test_set[index], y"
      ],
      "execution_count": 0,
      "outputs": []
    },
    {
      "cell_type": "markdown",
      "metadata": {
        "id": "XS9ecSuU1Wls",
        "colab_type": "text"
      },
      "source": [
        "## Models"
      ]
    },
    {
      "cell_type": "markdown",
      "metadata": {
        "id": "NQydWXOWs1T1",
        "colab_type": "text"
      },
      "source": [
        "Each `define_model` function defines a different configuration of CNN, compiles the model and returns it. Notice that the model is only created when the function is executed."
      ]
    },
    {
      "cell_type": "markdown",
      "metadata": {
        "id": "fNyiLWgn-h1N",
        "colab_type": "text"
      },
      "source": [
        "### Phase 1\n",
        "\n",
        "These were the first models tested. Those are very small CNNs, and although they seem to perform well, they don't. Even those that hit over 90% accuracy on test set are still not working with real world data. The dataset used here had 20K samples."
      ]
    },
    {
      "cell_type": "code",
      "metadata": {
        "id": "U_-K2MO3mI3a",
        "colab_type": "code",
        "colab": {}
      },
      "source": [
        "# 0.83 @ 18 epochs, than overfits\n",
        "\n",
        "def define_model(input_shape = (221,199,1)):\n",
        "    #create model\n",
        "    model = Sequential()\n",
        "\n",
        "    #add model layers\n",
        "    model.add(Conv2D(32, kernel_size=3, activation='relu', input_shape=input_shape))\n",
        "    model.add(MaxPool2D())\n",
        "    model.add(Conv2D(32, kernel_size=3, activation='relu'))\n",
        "    model.add(MaxPool2D())\n",
        "    model.add(Conv2D(32, kernel_size=3, activation='relu'))\n",
        "    model.add(MaxPool2D())\n",
        "    model.add(Flatten())\n",
        "    model.add(Dense(128, activation='relu'))\n",
        "    model.add(Dropout(0.2))\n",
        "    model.add(Dense(128, activation='relu'))\n",
        "    model.add(Dropout(0.2))\n",
        "    model.add(Dense(64, activation='relu'))\n",
        "    model.add(Dropout(0.2))\n",
        "    model.add(Dense(64, activation='relu'))\n",
        "    model.add(Dense(1, activation='sigmoid'))\n",
        "\n",
        "    #compile model using accuracy to measure model performance\n",
        "    adam = keras.optimizers.Adam(learning_rate=0.00005, beta_1=0.9, beta_2=0.999, amsgrad=False)\n",
        "    model.compile(optimizer=adam, loss='binary_crossentropy', metrics=['accuracy'])\n",
        "    plot_model(model, to_file='model.png', show_shapes=True)\n",
        "    return model"
      ],
      "execution_count": 0,
      "outputs": []
    },
    {
      "cell_type": "code",
      "metadata": {
        "id": "0_ff6MqX3XiP",
        "colab_type": "code",
        "colab": {}
      },
      "source": [
        "# 0.82 @ 23 epochs, than overfits\n",
        "\n",
        "def define_model(input_shape = (221,199,1)):\n",
        "    #create model\n",
        "    model = Sequential()\n",
        "\n",
        "    #add model layers\n",
        "    model.add(Conv2D(32, kernel_size=3, activation='relu', input_shape=input_shape))\n",
        "    model.add(MaxPool2D())\n",
        "    model.add(Conv2D(32, kernel_size=3, activation='relu'))\n",
        "    model.add(MaxPool2D())\n",
        "    model.add(Conv2D(32, kernel_size=3, activation='relu'))\n",
        "    model.add(MaxPool2D())\n",
        "    model.add(Flatten())\n",
        "    model.add(Dense(128, activation='relu'))\n",
        "    model.add(Dropout(0.2))\n",
        "    model.add(Dense(64, activation='relu'))\n",
        "    model.add(Dropout(0.2))\n",
        "    model.add(Dense(64, activation='relu'))\n",
        "    model.add(Dropout(0.2))\n",
        "    model.add(Dense(1, activation='sigmoid'))\n",
        "\n",
        "    #compile model using accuracy to measure model performance\n",
        "    adam = keras.optimizers.Adam(learning_rate=0.00005, beta_1=0.9, beta_2=0.999, amsgrad=False)\n",
        "    model.compile(optimizer=adam, loss='binary_crossentropy', metrics=['accuracy'])\n",
        "    plot_model(model, to_file='model.png', show_shapes=True)\n",
        "    return model"
      ],
      "execution_count": 0,
      "outputs": []
    },
    {
      "cell_type": "code",
      "metadata": {
        "id": "pp_AywCa6-bf",
        "colab_type": "code",
        "colab": {}
      },
      "source": [
        "# 0.82 @ 23 epochs, than overfits\n",
        "\n",
        "def define_model(input_shape = (221,199,1)):\n",
        "    #create model\n",
        "    model = Sequential()\n",
        "\n",
        "    #add model layers\n",
        "    model.add(Conv2D(32, kernel_size=3, activation='relu', input_shape=input_shape))\n",
        "    model.add(MaxPool2D())\n",
        "    model.add(Conv2D(32, kernel_size=3, activation='relu'))\n",
        "    model.add(MaxPool2D())\n",
        "    model.add(Flatten())\n",
        "    model.add(Dense(128, activation='relu'))\n",
        "    model.add(Dropout(0.2))\n",
        "    model.add(Dense(64, activation='relu'))\n",
        "    model.add(Dropout(0.2))\n",
        "    model.add(Dense(64, activation='relu'))\n",
        "    model.add(Dropout(0.2))\n",
        "    model.add(Dense(1, activation='sigmoid'))\n",
        "\n",
        "    #compile model using accuracy to measure model performance\n",
        "    adam = keras.optimizers.Adam(learning_rate=0.000025, beta_1=0.9, beta_2=0.999, amsgrad=False)\n",
        "    model.compile(optimizer=adam, loss='binary_crossentropy', metrics=['accuracy'])\n",
        "    plot_model(model, to_file='model.png', show_shapes=True)\n",
        "    return model"
      ],
      "execution_count": 0,
      "outputs": []
    },
    {
      "cell_type": "code",
      "metadata": {
        "id": "g1AjiD5xIIxQ",
        "colab_type": "code",
        "colab": {}
      },
      "source": [
        "# 0,87 acc for activation against all\n",
        "\n",
        "def define_model(input_shape = (221,199,1)):\n",
        "    #create model\n",
        "    model = Sequential()\n",
        "\n",
        "    #add model layers\n",
        "    model.add(Conv2D(32, kernel_size=3, activation='relu', input_shape=input_shape))\n",
        "    model.add(MaxPool2D())\n",
        "    model.add(Conv2D(32, kernel_size=3, activation='relu'))\n",
        "    model.add(MaxPool2D())\n",
        "    model.add(Conv2D(32, kernel_size=3, activation='relu'))\n",
        "    model.add(MaxPool2D())\n",
        "    model.add(Flatten())\n",
        "    model.add(Dense(86, activation='relu'))\n",
        "    model.add(Dropout(0.2))\n",
        "    model.add(Dense(64, activation='relu'))\n",
        "    model.add(Dropout(0.2))\n",
        "    model.add(Dense(64, activation='relu'))\n",
        "    model.add(Dropout(0.2))\n",
        "    model.add(Dense(32, activation='relu'))\n",
        "    model.add(Dense(1, activation='sigmoid'))\n",
        "\n",
        "    #compile model using accuracy to measure model performance\n",
        "    adam = keras.optimizers.Adam(learning_rate=0.00001, beta_1=0.9, beta_2=0.999, amsgrad=False)\n",
        "    model.compile(optimizer=adam, loss='binary_crossentropy', metrics=['accuracy'])\n",
        "    plot_model(model, to_file='model.png', show_shapes=True)\n",
        "    return model"
      ],
      "execution_count": 0,
      "outputs": []
    },
    {
      "cell_type": "code",
      "metadata": {
        "id": "tiwaONp98_uh",
        "colab_type": "code",
        "colab": {}
      },
      "source": [
        "# 0,86 on speech against all @ 13 epochs\n",
        "\n",
        "def define_model(input_shape = (221,199,1)):\n",
        "    #create model\n",
        "    model = Sequential()\n",
        "\n",
        "    #add model layers\n",
        "    model.add(Conv2D(48, kernel_size=3, activation='relu', input_shape=input_shape))\n",
        "    model.add(MaxPool2D())\n",
        "    model.add(Conv2D(32, kernel_size=3, activation='relu'))\n",
        "    model.add(MaxPool2D())\n",
        "    model.add(Conv2D(32, kernel_size=3, activation='relu'))\n",
        "    model.add(MaxPool2D())\n",
        "    model.add(Flatten())\n",
        "    model.add(Dense(128, activation='relu'))\n",
        "    model.add(Dropout(0.2))\n",
        "    model.add(Dense(128, activation='relu'))\n",
        "    model.add(Dropout(0.2))\n",
        "    model.add(Dense(128, activation='relu'))\n",
        "    model.add(Dropout(0.2))\n",
        "    model.add(Dense(64, activation='relu'))\n",
        "    model.add(Dropout(0.2))\n",
        "    model.add(Dense(64, activation='relu'))\n",
        "    model.add(Dense(1, activation='sigmoid'))\n",
        "\n",
        "    #compile model using accuracy to measure model performance\n",
        "    adam = keras.optimizers.Adam(learning_rate=0.00005, beta_1=0.9, beta_2=0.999, amsgrad=False)\n",
        "    model.compile(optimizer=adam, loss='binary_crossentropy', metrics=['accuracy'])\n",
        "    plot_model(model, to_file='model.png', show_shapes=True)\n",
        "    return model"
      ],
      "execution_count": 0,
      "outputs": []
    },
    {
      "cell_type": "code",
      "metadata": {
        "id": "otaO-2XMC1QC",
        "colab_type": "code",
        "colab": {}
      },
      "source": [
        "# 0,84 on act against speech @ 20 epochs\n",
        "\n",
        "def define_model(input_shape = (221,199,1)):\n",
        "    #create model\n",
        "    model = Sequential()\n",
        "\n",
        "    #add model layers\n",
        "    model.add(Conv2D(64, kernel_size=3, activation='relu', input_shape=input_shape))\n",
        "    model.add(MaxPool2D())\n",
        "    model.add(Conv2D(48, kernel_size=3, activation='relu'))\n",
        "    model.add(MaxPool2D())\n",
        "    model.add(Conv2D(32, kernel_size=3, activation='relu'))\n",
        "    model.add(MaxPool2D())\n",
        "    model.add(Flatten())\n",
        "    model.add(Dense(256, activation='relu'))\n",
        "    model.add(Dropout(0.2))\n",
        "    model.add(Dense(256, activation='relu'))\n",
        "    model.add(Dropout(0.2))\n",
        "    model.add(Dense(128, activation='relu'))\n",
        "    model.add(Dropout(0.2))\n",
        "    model.add(Dense(128, activation='relu'))\n",
        "    model.add(Dropout(0.2))\n",
        "    model.add(Dense(64, activation='relu'))\n",
        "    model.add(Dropout(0.2))\n",
        "    model.add(Dense(64, activation='relu'))\n",
        "    model.add(Dense(1, activation='sigmoid'))\n",
        "\n",
        "    #compile model using accuracy to measure model performance\n",
        "    adam = keras.optimizers.Adam(learning_rate=0.00005, beta_1=0.9, beta_2=0.999, amsgrad=False)\n",
        "    model.compile(optimizer=adam, loss='binary_crossentropy', metrics=['accuracy'])\n",
        "    plot_model(model, to_file='model.png', show_shapes=True)\n",
        "    return model"
      ],
      "execution_count": 0,
      "outputs": []
    },
    {
      "cell_type": "code",
      "metadata": {
        "id": "alYdTtXBLiuq",
        "colab_type": "code",
        "colab": {}
      },
      "source": [
        "# 0,86 on act against speech @ 22 epochs\n",
        "# 0,86 on sp against all @ 39 epochs\n",
        "\n",
        "def define_model(input_shape = (221,199,1)):\n",
        "    #create model\n",
        "    model = Sequential()\n",
        "\n",
        "    #add model layers\n",
        "    model.add(Conv2D(64, kernel_size=3, activation='relu', input_shape=input_shape))\n",
        "    model.add(MaxPool2D())\n",
        "    model.add(Conv2D(48, kernel_size=3, activation='relu'))\n",
        "    model.add(MaxPool2D())\n",
        "    model.add(Conv2D(32, kernel_size=3, activation='relu'))\n",
        "    model.add(MaxPool2D())\n",
        "    model.add(Flatten())\n",
        "    model.add(Dense(200, activation='relu'))\n",
        "    model.add(Dropout(0.2))\n",
        "    model.add(Dense(200, activation='relu'))\n",
        "    model.add(Dropout(0.2))\n",
        "    model.add(Dense(100, activation='relu'))\n",
        "    model.add(Dropout(0.2))\n",
        "    model.add(Dense(100, activation='relu'))\n",
        "    model.add(Dropout(0.2))\n",
        "    model.add(Dense(50, activation='relu'))\n",
        "    model.add(Dropout(0.2))\n",
        "    model.add(Dense(50, activation='relu'))\n",
        "    model.add(Dense(1, activation='sigmoid'))\n",
        "\n",
        "    #compile model using accuracy to measure model performance\n",
        "    adam = keras.optimizers.Adam(learning_rate=0.00005, beta_1=0.9, beta_2=0.999, amsgrad=False)\n",
        "    model.compile(optimizer=adam, loss='binary_crossentropy', metrics=['accuracy'])\n",
        "    plot_model(model, to_file='model.png', show_shapes=True)\n",
        "    return model"
      ],
      "execution_count": 0,
      "outputs": []
    },
    {
      "cell_type": "code",
      "metadata": {
        "id": "fFzqkYQEPGlj",
        "colab_type": "code",
        "colab": {}
      },
      "source": [
        "# 0,85 in act against speech @ 25 epochs\n",
        "\n",
        "def define_model(input_shape = (221,199,1)):\n",
        "    #create model\n",
        "    model = Sequential()\n",
        "\n",
        "    #add model layers\n",
        "    model.add(Conv2D(64, kernel_size=3, activation='relu', input_shape=input_shape))\n",
        "    model.add(MaxPool2D())\n",
        "    model.add(Conv2D(64, kernel_size=3, activation='relu'))\n",
        "    model.add(MaxPool2D())\n",
        "    model.add(Conv2D(48, kernel_size=3, activation='relu'))\n",
        "    model.add(MaxPool2D())\n",
        "    model.add(Flatten())\n",
        "    model.add(Dense(128, activation='relu'))\n",
        "    model.add(Dropout(0.2))\n",
        "    model.add(Dense(128, activation='relu'))\n",
        "    model.add(Dropout(0.2))\n",
        "    model.add(Dense(64, activation='relu'))\n",
        "    model.add(Dropout(0.2))\n",
        "    model.add(Dense(64, activation='relu'))\n",
        "    model.add(Dropout(0.2))\n",
        "    model.add(Dense(32, activation='relu'))\n",
        "    model.add(Dropout(0.2))\n",
        "    model.add(Dense(32, activation='relu'))\n",
        "    model.add(Dense(1, activation='sigmoid'))\n",
        "\n",
        "    #compile model using accuracy to measure model performance\n",
        "    adam = keras.optimizers.Adam(learning_rate=0.00005, beta_1=0.9, beta_2=0.999, amsgrad=False)\n",
        "    model.compile(optimizer=adam, loss='binary_crossentropy', metrics=['accuracy'])\n",
        "    plot_model(model, to_file='model.png', show_shapes=True)\n",
        "    return model"
      ],
      "execution_count": 0,
      "outputs": []
    },
    {
      "cell_type": "code",
      "metadata": {
        "id": "8k3hvcnYVdxT",
        "colab_type": "code",
        "colab": {}
      },
      "source": [
        "# 0,85 in act against speech @ 37 epochs\n",
        "\n",
        "def define_model(input_shape = (221,199,1)):\n",
        "    #create model\n",
        "    model = Sequential()\n",
        "\n",
        "    #add model layers\n",
        "    model.add(Conv2D(64, kernel_size=3, activation='relu', input_shape=input_shape))\n",
        "    model.add(MaxPool2D())\n",
        "    model.add(Conv2D(64, kernel_size=3, activation='relu'))\n",
        "    model.add(MaxPool2D())\n",
        "    model.add(Conv2D(48, kernel_size=3, activation='relu'))\n",
        "    model.add(MaxPool2D())\n",
        "    model.add(Flatten())\n",
        "    model.add(Dense(200, activation='relu'))\n",
        "    model.add(Dropout(0.2))\n",
        "    model.add(Dense(200, activation='relu'))\n",
        "    model.add(Dropout(0.2))\n",
        "    model.add(Dense(100, activation='relu'))\n",
        "    model.add(Dropout(0.2))\n",
        "    model.add(Dense(100, activation='relu'))\n",
        "    model.add(Dropout(0.2))\n",
        "    model.add(Dense(50, activation='relu'))\n",
        "    model.add(Dropout(0.2))\n",
        "    model.add(Dense(50, activation='relu'))\n",
        "    model.add(Dense(1, activation='sigmoid'))\n",
        "\n",
        "    #compile model using accuracy to measure model performance\n",
        "    adam = keras.optimizers.Adam(learning_rate=0.00002, beta_1=0.9, beta_2=0.999, amsgrad=False)\n",
        "    model.compile(optimizer=adam, loss='binary_crossentropy', metrics=['accuracy'])\n",
        "    plot_model(model, to_file='model.png', show_shapes=True)\n",
        "    return model"
      ],
      "execution_count": 0,
      "outputs": []
    },
    {
      "cell_type": "code",
      "metadata": {
        "id": "WFDcZMG5dhIg",
        "colab_type": "code",
        "colab": {}
      },
      "source": [
        "# 0,86 in act against speech @ 24 epochs\n",
        "\n",
        "def define_model(input_shape = (221,199,1)):\n",
        "    #create model\n",
        "    model = Sequential()\n",
        "\n",
        "    #add model layers\n",
        "    model.add(Conv2D(48, kernel_size=3, activation='relu', input_shape=input_shape))\n",
        "    model.add(MaxPool2D())\n",
        "    model.add(Conv2D(48, kernel_size=3, activation='relu'))\n",
        "    model.add(MaxPool2D())\n",
        "    model.add(Conv2D(32, kernel_size=3, activation='relu'))\n",
        "    model.add(MaxPool2D())\n",
        "    model.add(Flatten())\n",
        "    model.add(Dense(200, activation='relu'))\n",
        "    model.add(Dropout(0.2))\n",
        "    model.add(Dense(200, activation='relu'))\n",
        "    model.add(Dropout(0.2))\n",
        "    model.add(Dense(100, activation='relu'))\n",
        "    model.add(Dropout(0.2))\n",
        "    model.add(Dense(100, activation='relu'))\n",
        "    model.add(Dropout(0.2))\n",
        "    model.add(Dense(50, activation='relu'))\n",
        "    model.add(Dropout(0.2))\n",
        "    model.add(Dense(50, activation='relu'))\n",
        "    model.add(Dense(1, activation='sigmoid'))\n",
        "\n",
        "    #compile model using accuracy to measure model performance\n",
        "    adam = keras.optimizers.Adam(learning_rate=0.00002, beta_1=0.9, beta_2=0.999, amsgrad=False)\n",
        "    model.compile(optimizer=adam, loss='binary_crossentropy', metrics=['accuracy'])\n",
        "    plot_model(model, to_file='model.png', show_shapes=True)\n",
        "    return model"
      ],
      "execution_count": 0,
      "outputs": []
    },
    {
      "cell_type": "code",
      "metadata": {
        "id": "pMqAeRkKjgRZ",
        "colab_type": "code",
        "colab": {}
      },
      "source": [
        "# 0,88 in speech against all @ 22 epochs\n",
        "\n",
        "def define_model(input_shape = (221,199,1)):\n",
        "    #create model\n",
        "    model = Sequential()\n",
        "\n",
        "    #add model layers\n",
        "    model.add(Conv2D(64, kernel_size=3, activation='relu', input_shape=input_shape))\n",
        "    model.add(MaxPool2D())\n",
        "    model.add(Conv2D(48, kernel_size=3, activation='relu'))\n",
        "    model.add(MaxPool2D())\n",
        "    model.add(Conv2D(32, kernel_size=3, activation='relu'))\n",
        "    model.add(MaxPool2D())\n",
        "    model.add(Flatten())\n",
        "    model.add(Dense(200, activation='relu'))\n",
        "    model.add(Dropout(0.2))\n",
        "    model.add(Dense(200, activation='relu'))\n",
        "    model.add(Dropout(0.2))\n",
        "    model.add(Dense(100, activation='relu'))\n",
        "    model.add(Dropout(0.1))\n",
        "    model.add(Dense(100, activation='relu'))\n",
        "    model.add(Dropout(0.1))\n",
        "    model.add(Dense(50, activation='relu'))\n",
        "    model.add(Dropout(0.1))\n",
        "    model.add(Dense(50, activation='relu'))\n",
        "    model.add(Dense(1, activation='sigmoid'))\n",
        "\n",
        "    #compile model using accuracy to measure model performance\n",
        "    adam = keras.optimizers.Adam(learning_rate=0.00002, beta_1=0.9, beta_2=0.999, amsgrad=False)\n",
        "    model.compile(optimizer=adam, loss='binary_crossentropy', metrics=['accuracy'])\n",
        "    plot_model(model, to_file='model.png', show_shapes=True)\n",
        "    return model"
      ],
      "execution_count": 0,
      "outputs": []
    },
    {
      "cell_type": "code",
      "metadata": {
        "id": "kyeLn5HbtQm0",
        "colab_type": "code",
        "colab": {}
      },
      "source": [
        "# 12\n",
        "weights_sp2all = \"weights-0.905@23-model#12-sp2all.hdf5\"\n",
        "weights_act2sp = \"weights-0.868@20-model#12-act2sp.hdf5\"\n",
        "\n",
        "def define_model(input_shape = (221,199,1)):\n",
        "    #create model\n",
        "    model = Sequential()\n",
        "\n",
        "    #add model layers\n",
        "    model.add(Conv2D(72, kernel_size=3, activation='relu', input_shape=input_shape))\n",
        "    model.add(MaxPool2D())\n",
        "    model.add(Conv2D(54, kernel_size=3, activation='relu'))\n",
        "    model.add(MaxPool2D())\n",
        "    model.add(Conv2D(36, kernel_size=3, activation='relu'))\n",
        "    model.add(MaxPool2D())\n",
        "    model.add(Flatten())\n",
        "    model.add(Dense(256, activation='relu'))\n",
        "    model.add(Dropout(0.2))\n",
        "    model.add(Dense(256, activation='relu'))\n",
        "    model.add(Dropout(0.2))\n",
        "    model.add(Dense(128, activation='relu'))\n",
        "    model.add(Dropout(0.2))\n",
        "    model.add(Dense(128, activation='relu'))\n",
        "    model.add(Dropout(0.1))\n",
        "    model.add(Dense(64, activation='relu'))\n",
        "    model.add(Dropout(0.1))\n",
        "    model.add(Dense(64, activation='relu'))\n",
        "    model.add(Dense(1, activation='sigmoid'))\n",
        "\n",
        "    #compile model using accuracy to measure model performance\n",
        "    adam = keras.optimizers.Adam(learning_rate=0.00002, beta_1=0.9, beta_2=0.999, amsgrad=False)\n",
        "    model.compile(optimizer=adam, loss='binary_crossentropy', metrics=['accuracy'])\n",
        "    plot_model(model, to_file='model.png', show_shapes=True)\n",
        "    return model"
      ],
      "execution_count": 0,
      "outputs": []
    },
    {
      "cell_type": "code",
      "metadata": {
        "id": "2xQ5goazEd4N",
        "colab_type": "code",
        "colab": {}
      },
      "source": [
        "weights_sp2all = \"weights-0.908@24-model#13-sp2all.hdf5\"\n",
        "\n",
        "def define_model(input_shape = (221,199,1)):\n",
        "    #create model\n",
        "    model = Sequential()\n",
        "\n",
        "    #add model layers\n",
        "    model.add(Conv2D(72, kernel_size=3, activation='relu', input_shape=input_shape))\n",
        "    model.add(MaxPool2D())\n",
        "    model.add(Conv2D(54, kernel_size=3, activation='relu'))\n",
        "    model.add(MaxPool2D())\n",
        "    model.add(Conv2D(36, kernel_size=3, activation='relu'))\n",
        "    model.add(MaxPool2D())\n",
        "    model.add(Flatten())\n",
        "    model.add(Dense(256, activation='relu'))\n",
        "    model.add(Dropout(0.25))\n",
        "    model.add(Dense(256, activation='relu'))\n",
        "    model.add(Dropout(0.25))\n",
        "    model.add(Dense(128, activation='relu'))\n",
        "    model.add(Dropout(0.25))\n",
        "    model.add(Dense(128, activation='relu'))\n",
        "    model.add(Dropout(0.25))\n",
        "    model.add(Dense(64, activation='relu'))\n",
        "    model.add(Dropout(0.25))\n",
        "    model.add(Dense(64, activation='relu'))\n",
        "    model.add(Dense(1, activation='sigmoid'))\n",
        "\n",
        "    #compile model using accuracy to measure model performance\n",
        "    adam = keras.optimizers.Adam(learning_rate=0.00002, beta_1=0.9, beta_2=0.999, amsgrad=False)\n",
        "    model.compile(optimizer=adam, loss='binary_crossentropy', metrics=['accuracy'])\n",
        "    plot_model(model, to_file='model.png', show_shapes=True)\n",
        "    return model"
      ],
      "execution_count": 0,
      "outputs": []
    },
    {
      "cell_type": "code",
      "metadata": {
        "id": "WpWYXASZvJXf",
        "colab_type": "code",
        "colab": {}
      },
      "source": [
        "weights_sp2all = \"weights-0.881@17-model#14-sp2all.hdf5\"\n",
        "weights_act2sp = \"weights-0.870@18-model#14-act2sp.hdf5\"\n",
        "from tensorflow.keras.layers import LeakyReLU\n",
        "\n",
        "def define_model(input_shape = (221,199,1)):\n",
        "    #create model\n",
        "    model = Sequential()\n",
        "\n",
        "    #add model layers\n",
        "    model.add(Conv2D(72, kernel_size=3, activation='relu', input_shape=input_shape))\n",
        "    model.add(MaxPool2D())\n",
        "    model.add(Conv2D(54, kernel_size=3, activation='relu'))\n",
        "    model.add(MaxPool2D())\n",
        "    model.add(Conv2D(36, kernel_size=3, activation='relu'))\n",
        "    model.add(MaxPool2D())\n",
        "    model.add(Flatten())\n",
        "    model.add(Dense(256))\n",
        "    model.add(LeakyReLU())\n",
        "    model.add(Dropout(0.25))\n",
        "    model.add(Dense(256))\n",
        "    model.add(LeakyReLU())\n",
        "    model.add(Dropout(0.25))\n",
        "    model.add(Dense(128))\n",
        "    model.add(LeakyReLU())\n",
        "    model.add(Dropout(0.25))\n",
        "    model.add(Dense(128))\n",
        "    model.add(LeakyReLU())\n",
        "    model.add(Dropout(0.25))\n",
        "    model.add(Dense(64))\n",
        "    model.add(LeakyReLU())\n",
        "    model.add(Dropout(0.25))\n",
        "    model.add(Dense(64))\n",
        "    model.add(LeakyReLU())\n",
        "    model.add(Dense(1, activation='sigmoid'))\n",
        "\n",
        "    #compile model using accuracy to measure model performance\n",
        "    adam = keras.optimizers.Adam(learning_rate=0.00002, beta_1=0.9, beta_2=0.999, amsgrad=False)\n",
        "    model.compile(optimizer=adam, loss='binary_crossentropy', metrics=['accuracy'])\n",
        "    plot_model(model, to_file='model.png', show_shapes=True)\n",
        "    return model"
      ],
      "execution_count": 0,
      "outputs": []
    },
    {
      "cell_type": "code",
      "metadata": {
        "id": "qOOsm6iTN3cV",
        "colab_type": "code",
        "colab": {}
      },
      "source": [
        "#15\n",
        "from tensorflow.keras.layers import LeakyReLU\n",
        "\n",
        "def define_model(input_shape = (221,199,1)):\n",
        "    #create model\n",
        "    model = Sequential()\n",
        "\n",
        "    #add model layers\n",
        "    model.add(Conv2D(72, kernel_size=3, input_shape=input_shape))\n",
        "    model.add(LeakyReLU())\n",
        "    model.add(MaxPool2D())\n",
        "    model.add(Conv2D(54, kernel_size=3))\n",
        "    model.add(LeakyReLU())\n",
        "    model.add(MaxPool2D())\n",
        "    model.add(Conv2D(36, kernel_size=3))\n",
        "    model.add(LeakyReLU())\n",
        "    model.add(MaxPool2D())\n",
        "    model.add(Flatten())\n",
        "    model.add(Dense(256))\n",
        "    model.add(LeakyReLU())\n",
        "    model.add(Dropout(0.25))\n",
        "    model.add(Dense(256))\n",
        "    model.add(LeakyReLU())\n",
        "    model.add(Dropout(0.25))\n",
        "    model.add(Dense(128))\n",
        "    model.add(LeakyReLU())\n",
        "    model.add(Dropout(0.25))\n",
        "    model.add(Dense(128))\n",
        "    model.add(LeakyReLU())\n",
        "    model.add(Dropout(0.25))\n",
        "    model.add(Dense(64))\n",
        "    model.add(LeakyReLU())\n",
        "    model.add(Dropout(0.25))\n",
        "    model.add(Dense(64))\n",
        "    model.add(LeakyReLU())\n",
        "    model.add(Dense(1, activation='sigmoid'))\n",
        "\n",
        "    #compile model using accuracy to measure model performance\n",
        "    adam = keras.optimizers.Adam(learning_rate=0.00002, beta_1=0.9, beta_2=0.999, amsgrad=False)\n",
        "    model.compile(optimizer=adam, loss='binary_crossentropy', metrics=['accuracy'])\n",
        "    plot_model(model, to_file='model.png', show_shapes=True)\n",
        "    return model"
      ],
      "execution_count": 0,
      "outputs": []
    },
    {
      "cell_type": "code",
      "metadata": {
        "id": "39Ujjh4qUhZx",
        "colab_type": "code",
        "colab": {}
      },
      "source": [
        "#16\n",
        "from tensorflow.keras.layers import LeakyReLU\n",
        "\n",
        "def define_model(input_shape = (221,199,1)):\n",
        "    #create model\n",
        "    model = Sequential()\n",
        "\n",
        "    #add model layers\n",
        "    model.add(Conv2D(72, kernel_size=3, input_shape=input_shape))\n",
        "    model.add(LeakyReLU())\n",
        "    model.add(MaxPool2D())\n",
        "    model.add(Conv2D(54, kernel_size=3))\n",
        "    model.add(LeakyReLU())\n",
        "    model.add(MaxPool2D())\n",
        "    model.add(Conv2D(36, kernel_size=3))\n",
        "    model.add(LeakyReLU())\n",
        "    model.add(MaxPool2D())\n",
        "    model.add(Flatten())\n",
        "    model.add(Dense(256))\n",
        "    model.add(LeakyReLU())\n",
        "    model.add(Dropout(0.25))\n",
        "    model.add(Dense(256))\n",
        "    model.add(LeakyReLU())\n",
        "    model.add(Dropout(0.25))\n",
        "    model.add(Dense(128))\n",
        "    model.add(LeakyReLU())\n",
        "    model.add(Dropout(0.25))\n",
        "    model.add(Dense(128))\n",
        "    model.add(LeakyReLU())\n",
        "    model.add(Dropout(0.25))\n",
        "    model.add(Dense(64))\n",
        "    model.add(LeakyReLU())\n",
        "    model.add(Dropout(0.25))\n",
        "    model.add(Dense(64))\n",
        "    model.add(LeakyReLU())\n",
        "    model.add(Dense(1, activation='sigmoid'))\n",
        "\n",
        "    #compile model using accuracy to measure model performance\n",
        "    adam = keras.optimizers.Adam(learning_rate=0.00001, beta_1=0.9, beta_2=0.999, amsgrad=False)\n",
        "    model.compile(optimizer=adam, loss='binary_crossentropy', metrics=['accuracy'])\n",
        "    plot_model(model, to_file='model.png', show_shapes=True)\n",
        "    return model"
      ],
      "execution_count": 0,
      "outputs": []
    },
    {
      "cell_type": "code",
      "metadata": {
        "id": "o7R1onaf6B5-",
        "colab_type": "code",
        "colab": {}
      },
      "source": [
        "#17\n",
        "\n",
        "def define_model(input_shape = (221,199,1)):\n",
        "    #create model\n",
        "    model = Sequential()\n",
        "\n",
        "    #add model layers\n",
        "    model.add(Conv2D(72, kernel_size=3, activation='relu', input_shape=input_shape))\n",
        "    model.add(MaxPool2D())\n",
        "    model.add(Conv2D(54, kernel_size=3, activation='relu'))\n",
        "    model.add(MaxPool2D())\n",
        "    model.add(Conv2D(36, kernel_size=3, activation='relu'))\n",
        "    model.add(MaxPool2D())\n",
        "    model.add(Flatten())\n",
        "    model.add(Dense(256, activation='tanh'))\n",
        "    model.add(Dropout(0.25))\n",
        "    model.add(Dense(256, activation='tanh'))\n",
        "    model.add(Dropout(0.25))\n",
        "    model.add(Dense(128, activation='tanh'))\n",
        "    model.add(Dropout(0.25))\n",
        "    model.add(Dense(128, activation='tanh'))\n",
        "    model.add(Dropout(0.25))\n",
        "    model.add(Dense(64, activation='tanh'))\n",
        "    model.add(Dropout(0.25))\n",
        "    model.add(Dense(64, activation='tanh'))\n",
        "    model.add(Dense(1, activation='sigmoid'))\n",
        "\n",
        "    #compile model using accuracy to measure model performance\n",
        "    adam = keras.optimizers.Adam(learning_rate=0.0001, beta_1=0.9, beta_2=0.999, amsgrad=False)\n",
        "    model.compile(optimizer=adam, loss='binary_crossentropy', metrics=['accuracy'])\n",
        "    plot_model(model, to_file='model.png', show_shapes=True)\n",
        "    return model"
      ],
      "execution_count": 0,
      "outputs": []
    },
    {
      "cell_type": "code",
      "metadata": {
        "id": "SLblP3F1uI19",
        "colab_type": "code",
        "colab": {}
      },
      "source": [
        "#18\n",
        "def define_model(input_shape = (221,199,1)):\n",
        "    #create model\n",
        "    model = Sequential()\n",
        "\n",
        "    #add model layers\n",
        "    model.add(Conv2D(72, kernel_size=3, activation='relu', input_shape=input_shape))\n",
        "    model.add(MaxPool2D())\n",
        "    model.add(Conv2D(54, kernel_size=3, activation='relu'))\n",
        "    model.add(MaxPool2D())\n",
        "    model.add(Conv2D(36, kernel_size=3, activation='relu'))\n",
        "    model.add(MaxPool2D())\n",
        "    model.add(Flatten())\n",
        "    model.add(Dense(256, activation='softplus'))\n",
        "    model.add(Dropout(0.25))\n",
        "    model.add(Dense(256, activation='softplus'))\n",
        "    model.add(Dropout(0.25))\n",
        "    model.add(Dense(128, activation='softplus'))\n",
        "    model.add(Dropout(0.25))\n",
        "    model.add(Dense(128, activation='softplus'))\n",
        "    model.add(Dropout(0.25))\n",
        "    model.add(Dense(64, activation='softplus'))\n",
        "    model.add(Dropout(0.25))\n",
        "    model.add(Dense(64, activation='softplus'))\n",
        "    model.add(Dense(1, activation='sigmoid'))\n",
        "\n",
        "    #compile model using accuracy to measure model performance\n",
        "    adam = keras.optimizers.Adam(learning_rate=0.00001, beta_1=0.9, beta_2=0.999, amsgrad=False)\n",
        "    model.compile(optimizer=adam, loss='binary_crossentropy', metrics=['accuracy'])\n",
        "    plot_model(model, to_file='model.png', show_shapes=True)\n",
        "    return model"
      ],
      "execution_count": 0,
      "outputs": []
    },
    {
      "cell_type": "code",
      "metadata": {
        "id": "IjBc34BiuNtJ",
        "colab_type": "code",
        "colab": {}
      },
      "source": [
        "#19\n",
        "def define_model(input_shape = (221,199,1)):\n",
        "    #create model\n",
        "    model = Sequential()\n",
        "\n",
        "    #add model layers\n",
        "    model.add(Conv2D(72, kernel_size=3, activation='softplus', input_shape=input_shape))\n",
        "    model.add(MaxPool2D())\n",
        "    model.add(Conv2D(54, kernel_size=3, activation='softplus'))\n",
        "    model.add(MaxPool2D())\n",
        "    model.add(Conv2D(36, kernel_size=3, activation='softplus'))\n",
        "    model.add(MaxPool2D())\n",
        "    model.add(Flatten())\n",
        "    model.add(Dense(256, activation='relu'))\n",
        "    model.add(Dropout(0.25))\n",
        "    model.add(Dense(256, activation='relu'))\n",
        "    model.add(Dropout(0.25))\n",
        "    model.add(Dense(128, activation='relu'))\n",
        "    model.add(Dropout(0.25))\n",
        "    model.add(Dense(128, activation='relu'))\n",
        "    model.add(Dropout(0.25))\n",
        "    model.add(Dense(64, activation='relu'))\n",
        "    model.add(Dropout(0.25))\n",
        "    model.add(Dense(64, activation='relu'))\n",
        "    model.add(Dense(1, activation='sigmoid'))\n",
        "\n",
        "    #compile model using accuracy to measure model performance\n",
        "    adam = keras.optimizers.Adam(learning_rate=0.00002, beta_1=0.9, beta_2=0.999, amsgrad=False)\n",
        "    model.compile(optimizer=adam, loss='binary_crossentropy', metrics=['accuracy'])\n",
        "    plot_model(model, to_file='model.png', show_shapes=True)\n",
        "    return model"
      ],
      "execution_count": 0,
      "outputs": []
    },
    {
      "cell_type": "code",
      "metadata": {
        "id": "2QXeSDdbZ3Jd",
        "colab_type": "code",
        "colab": {}
      },
      "source": [
        "#20\n",
        "def define_model(input_shape = (221,199,1)):\n",
        "    #create model\n",
        "    model = Sequential()\n",
        "\n",
        "    #add model layers\n",
        "    model.add(Conv2D(64, kernel_size=3, activation='relu', input_shape=input_shape))\n",
        "    model.add(MaxPool2D())\n",
        "    model.add(Conv2D(48, kernel_size=3, activation='relu'))\n",
        "    model.add(MaxPool2D())\n",
        "    model.add(Conv2D(32, kernel_size=3, activation='relu'))\n",
        "    model.add(MaxPool2D())\n",
        "    model.add(Flatten())\n",
        "    model.add(Dense(200, activation='relu'))\n",
        "    model.add(Dropout(0.2))\n",
        "    model.add(Dense(200, activation='relu'))\n",
        "    model.add(Dropout(0.2))\n",
        "    model.add(Dense(100, activation='relu'))\n",
        "    model.add(Dropout(0.1))\n",
        "    model.add(Dense(100, activation='relu'))\n",
        "    model.add(Dropout(0.1))\n",
        "    model.add(Dense(50, activation='relu'))\n",
        "    model.add(Dropout(0.1))\n",
        "    model.add(Dense(50, activation='relu'))\n",
        "    model.add(Dense(1, activation='sigmoid'))\n",
        "\n",
        "    #compile model using accuracy to measure model performance\n",
        "    adam = keras.optimizers.Adam(learning_rate=0.00005, beta_1=0.9, beta_2=0.999, amsgrad=False)\n",
        "    model.compile(optimizer=adam, loss='binary_crossentropy', metrics=['accuracy'])\n",
        "    plot_model(model, to_file='model.png', show_shapes=True)\n",
        "    return model"
      ],
      "execution_count": 0,
      "outputs": []
    },
    {
      "cell_type": "code",
      "metadata": {
        "id": "N4C09xOycLQQ",
        "colab_type": "code",
        "colab": {}
      },
      "source": [
        "#21\n",
        "def define_model(input_shape = (221,199,1)):\n",
        "    #create model\n",
        "    model = Sequential()\n",
        "\n",
        "    #add model layers\n",
        "    model.add(Conv2D(16, kernel_size=3, activation='relu', input_shape=input_shape))\n",
        "    model.add(MaxPool2D())\n",
        "    model.add(Conv2D(48, kernel_size=5, activation='relu'))\n",
        "    model.add(MaxPool2D())\n",
        "    model.add(Conv2D(32, kernel_size=3, activation='relu'))\n",
        "    model.add(MaxPool2D())\n",
        "    model.add(Flatten())\n",
        "    model.add(Dense(128, activation='relu'))\n",
        "    model.add(Dropout(0.2))\n",
        "    model.add(Dense(128, activation='relu'))\n",
        "    model.add(Dropout(0.2))\n",
        "    model.add(Dense(128, activation='relu'))\n",
        "    model.add(Dropout(0.2))\n",
        "    model.add(Dense(64, activation='relu'))\n",
        "    model.add(Dropout(0.2))\n",
        "    model.add(Dense(64, activation='relu'))\n",
        "    model.add(Dense(1, activation='sigmoid'))\n",
        "\n",
        "    #compile model using accuracy to measure model performance\n",
        "    adam = keras.optimizers.Adam(learning_rate=0.00005, beta_1=0.9, beta_2=0.999, amsgrad=False)\n",
        "    model.compile(optimizer=adam, loss='binary_crossentropy', metrics=['accuracy'])\n",
        "    plot_model(model, to_file='model.png', show_shapes=True)\n",
        "    return model"
      ],
      "execution_count": 0,
      "outputs": []
    },
    {
      "cell_type": "code",
      "metadata": {
        "id": "wAgLAqQRL8hT",
        "colab_type": "code",
        "colab": {}
      },
      "source": [
        "#18\n",
        "def define_model(input_shape = (221,199,1)):\n",
        "    #create model\n",
        "    model = Sequential()\n",
        "\n",
        "    #add model layers\n",
        "    model.add(Conv2D(72, kernel_size=3, activation='relu', input_shape=input_shape))\n",
        "    model.add(MaxPool2D())\n",
        "    model.add(Conv2D(54, kernel_size=3, activation='relu'))\n",
        "    model.add(MaxPool2D())\n",
        "    model.add(Conv2D(36, kernel_size=3, activation='relu'))\n",
        "    model.add(MaxPool2D())\n",
        "    model.add(Flatten())\n",
        "    model.add(Dense(256, activation='softplus'))\n",
        "    model.add(Dropout(0.25))\n",
        "    model.add(Dense(256, activation='softplus'))\n",
        "    model.add(Dropout(0.25))\n",
        "    model.add(Dense(128, activation='softplus'))\n",
        "    model.add(Dropout(0.25))\n",
        "    model.add(Dense(128, activation='softplus'))\n",
        "    model.add(Dropout(0.25))\n",
        "    model.add(Dense(64, activation='softplus'))\n",
        "    model.add(Dropout(0.25))\n",
        "    model.add(Dense(64, activation='softplus'))\n",
        "    model.add(Dense(1, activation='sigmoid'))\n",
        "\n",
        "    #compile model using accuracy to measure model performance\n",
        "    adam = keras.optimizers.Adam(learning_rate=0.00001, beta_1=0.9, beta_2=0.999, amsgrad=False)\n",
        "    model.compile(optimizer=adam, loss='mse', metrics=['accuracy'])\n",
        "    plot_model(model, to_file='model.png', show_shapes=True)\n",
        "    return model"
      ],
      "execution_count": 0,
      "outputs": []
    },
    {
      "cell_type": "markdown",
      "metadata": {
        "id": "CX9LCCba-pNp",
        "colab_type": "text"
      },
      "source": [
        "### Phase 2\n",
        "\n",
        "Phase 2 began with some changes to training parameters, some different tests and a bigger dataset, with 40K samples. Accuracy did not improve, and testing the new models also proved they are still not able to recognize samples."
      ]
    },
    {
      "cell_type": "code",
      "metadata": {
        "id": "Y2Mqtm0G-sVs",
        "colab_type": "code",
        "colab": {}
      },
      "source": [
        "#1\n",
        "def define_model(input_shape = (221,199,1)):\n",
        "    #create model\n",
        "    model = Sequential()\n",
        "\n",
        "    #add model layers\n",
        "    model.add(Conv2D(16, kernel_size=3, activation='relu', input_shape=input_shape))\n",
        "    model.add(MaxPool2D())\n",
        "    model.add(Conv2D(48, kernel_size=5, activation='relu'))\n",
        "    model.add(MaxPool2D())\n",
        "    model.add(Conv2D(32, kernel_size=3, activation='relu'))\n",
        "    model.add(MaxPool2D())\n",
        "    model.add(Flatten())\n",
        "    model.add(Dense(128, activation='relu'))\n",
        "    model.add(Dropout(0.2))\n",
        "    model.add(Dense(128, activation='relu'))\n",
        "    model.add(Dropout(0.2))\n",
        "    model.add(Dense(128, activation='relu'))\n",
        "    model.add(Dropout(0.2))\n",
        "    model.add(Dense(64, activation='relu'))\n",
        "    model.add(Dropout(0.2))\n",
        "    model.add(Dense(64, activation='relu'))\n",
        "    model.add(Dense(1, activation='sigmoid'))\n",
        "\n",
        "    #compile model using accuracy to measure model performance\n",
        "    adam = keras.optimizers.Adam(learning_rate=0.00005, beta_1=0.9, beta_2=0.999, amsgrad=False)\n",
        "    model.compile(optimizer=adam, loss='binary_crossentropy', metrics=['accuracy'])\n",
        "    plot_model(model, to_file='model.png', show_shapes=True)\n",
        "    return model"
      ],
      "execution_count": 0,
      "outputs": []
    },
    {
      "cell_type": "code",
      "metadata": {
        "id": "lBd32U7JCfw5",
        "colab_type": "code",
        "colab": {}
      },
      "source": [
        "#2\n",
        "def define_model(input_shape = (221,199,1)):\n",
        "    #create model\n",
        "    model = Sequential()\n",
        "\n",
        "    #add model layers\n",
        "    model.add(Conv2D(32, kernel_size=3, activation='relu', input_shape=input_shape))\n",
        "    model.add(MaxPool2D())\n",
        "    model.add(Conv2D(48, kernel_size=5, activation='relu'))\n",
        "    model.add(MaxPool2D())\n",
        "    model.add(Conv2D(64, kernel_size=3, activation='relu'))\n",
        "    model.add(MaxPool2D())\n",
        "    model.add(Flatten())\n",
        "    model.add(Dense(256, activation='relu'))\n",
        "    model.add(Dropout(0.2))\n",
        "    model.add(Dense(256, activation='relu'))\n",
        "    model.add(Dropout(0.2))\n",
        "    model.add(Dense(128, activation='relu'))\n",
        "    model.add(Dropout(0.2))\n",
        "    model.add(Dense(128, activation='relu'))\n",
        "    model.add(Dropout(0.2))\n",
        "    model.add(Dense(128, activation='relu'))\n",
        "    model.add(Dense(1, activation='sigmoid'))\n",
        "\n",
        "    #compile model using accuracy to measure model performance\n",
        "    adam = keras.optimizers.Adam(learning_rate=0.00005, beta_1=0.9, beta_2=0.999, amsgrad=False)\n",
        "    model.compile(optimizer=adam, loss='binary_crossentropy', metrics=['accuracy'])\n",
        "    plot_model(model, to_file='model.png', show_shapes=True)\n",
        "    return model"
      ],
      "execution_count": 0,
      "outputs": []
    },
    {
      "cell_type": "code",
      "metadata": {
        "id": "V1EcF9F7WB8B",
        "colab_type": "code",
        "colab": {}
      },
      "source": [
        "#3\n",
        "def define_model(input_shape = (221,199,1)):\n",
        "    #create model\n",
        "    model = Sequential()\n",
        "\n",
        "    #add model layers\n",
        "    model.add(Conv2D(32, kernel_size=11, activation='relu', input_shape=input_shape))\n",
        "    model.add(MaxPool2D())\n",
        "    model.add(Conv2D(48, kernel_size=11, activation='relu'))\n",
        "    model.add(MaxPool2D())\n",
        "    model.add(Conv2D(64, kernel_size=11, activation='relu'))\n",
        "    model.add(MaxPool2D())\n",
        "    model.add(Flatten())\n",
        "    model.add(Dense(256, activation='relu'))\n",
        "    model.add(Dropout(0.2))\n",
        "    model.add(Dense(256, activation='relu'))\n",
        "    model.add(Dropout(0.2))\n",
        "    model.add(Dense(256, activation='relu'))\n",
        "    model.add(Dropout(0.2))\n",
        "    model.add(Dense(128, activation='relu'))\n",
        "    model.add(Dropout(0.2))\n",
        "    model.add(Dense(128, activation='relu'))\n",
        "    model.add(Dropout(0.2))\n",
        "    model.add(Dense(128, activation='relu'))\n",
        "    model.add(Dense(1, activation='sigmoid'))\n",
        "\n",
        "    #compile model using accuracy to measure model performance\n",
        "    adam = keras.optimizers.Adam(learning_rate=0.00001, beta_1=0.9, beta_2=0.999, amsgrad=False)\n",
        "    model.compile(optimizer=adam, loss='binary_crossentropy', metrics=['accuracy'])\n",
        "    plot_model(model, to_file='model.png', show_shapes=True)\n",
        "    return model"
      ],
      "execution_count": 0,
      "outputs": []
    },
    {
      "cell_type": "code",
      "metadata": {
        "id": "O6v_TwuDpUNm",
        "colab_type": "code",
        "colab": {}
      },
      "source": [
        "#4\n",
        "def define_model(input_shape = (221,199,1)):\n",
        "    #create model\n",
        "    model = Sequential()\n",
        "\n",
        "    #add model layers\n",
        "    model.add(Conv2D(32, kernel_size=7, activation='relu', input_shape=input_shape))\n",
        "    model.add(MaxPool2D())\n",
        "    model.add(Conv2D(48, kernel_size=7, activation='relu'))\n",
        "    model.add(MaxPool2D())\n",
        "    model.add(Conv2D(64, kernel_size=7, activation='relu'))\n",
        "    model.add(MaxPool2D())\n",
        "    model.add(Flatten())\n",
        "    model.add(Dense(256, activation='relu'))\n",
        "    model.add(Dropout(0.2))\n",
        "    model.add(Dense(256, activation='relu'))\n",
        "    model.add(Dropout(0.2))\n",
        "    model.add(Dense(256, activation='relu'))\n",
        "    model.add(Dropout(0.2))\n",
        "    model.add(Dense(128, activation='relu'))\n",
        "    model.add(Dropout(0.2))\n",
        "    model.add(Dense(128, activation='relu'))\n",
        "    model.add(Dropout(0.2))\n",
        "    model.add(Dense(128, activation='relu'))\n",
        "    model.add(Dense(1, activation='sigmoid'))\n",
        "\n",
        "    #compile model using accuracy to measure model performance\n",
        "    adam = keras.optimizers.Adam(learning_rate=0.00001, beta_1=0.9, beta_2=0.999, amsgrad=False)\n",
        "    model.compile(optimizer=adam, loss='binary_crossentropy', metrics=['accuracy'])\n",
        "    plot_model(model, to_file='model.png', show_shapes=True)\n",
        "    return model"
      ],
      "execution_count": 0,
      "outputs": []
    },
    {
      "cell_type": "markdown",
      "metadata": {
        "id": "Sj_64W5cmY0g",
        "colab_type": "text"
      },
      "source": [
        "### Phase 3\n",
        "\n",
        "To solve some of the possible problems in the first 2 phases, I'm now trying to add complexity to the models. Also generated a new dataset, with a ratio of 4:1 noise to speech, since it seems logical that the variety of noises the model has to recognize is a lot bigger than the one of voices. Also, the current dataset has +72K samples."
      ]
    },
    {
      "cell_type": "code",
      "metadata": {
        "id": "rsQbGEBomgUh",
        "colab_type": "code",
        "colab": {}
      },
      "source": [
        "model_number = 1\n",
        "def define_model(input_shape = (221,199,1)):\n",
        "    #create model\n",
        "    model = Sequential()\n",
        "\n",
        "    #add model layers\n",
        "    model.add(Conv2D(32, kernel_size=5, activation='relu', input_shape=input_shape))\n",
        "    #model.add(MaxPool2D())\n",
        "    model.add(Conv2D(32, kernel_size=5, activation='relu', input_shape=input_shape))\n",
        "    #model.add(MaxPool2D())\n",
        "    model.add(Conv2D(32, kernel_size=5, activation='relu', input_shape=input_shape))\n",
        "    model.add(MaxPool2D())\n",
        "    model.add(Conv2D(32, kernel_size=5, activation='relu'))\n",
        "    model.add(MaxPool2D())\n",
        "    model.add(Conv2D(32, kernel_size=5, activation='relu'))\n",
        "    model.add(MaxPool2D())\n",
        "    model.add(Flatten())\n",
        "    model.add(Dense(256, activation='relu'))\n",
        "    model.add(Dropout(0.2))\n",
        "    model.add(Dense(256, activation='relu'))\n",
        "    model.add(Dropout(0.2))\n",
        "    model.add(Dense(256, activation='relu'))\n",
        "    model.add(Dropout(0.2))\n",
        "    model.add(Dense(256, activation='relu'))\n",
        "    model.add(Dropout(0.2))\n",
        "    model.add(Dense(128, activation='relu'))\n",
        "    model.add(Dropout(0.1))\n",
        "    model.add(Dense(128, activation='relu'))\n",
        "    model.add(Dropout(0.1))\n",
        "    model.add(Dense(128, activation='relu'))\n",
        "    model.add(Dense(1, activation='sigmoid'))\n",
        "\n",
        "    #compile model using accuracy to measure model performance\n",
        "    adam = keras.optimizers.Adam(learning_rate=0.00001, beta_1=0.9, beta_2=0.999, amsgrad=False)\n",
        "    model.compile(optimizer=adam, loss='binary_crossentropy', metrics=['accuracy'])\n",
        "    plot_model(model, to_file='model.png', show_shapes=True)\n",
        "    return model"
      ],
      "execution_count": 0,
      "outputs": []
    },
    {
      "cell_type": "code",
      "metadata": {
        "id": "-kLk16Dv49sq",
        "colab_type": "code",
        "colab": {}
      },
      "source": [
        "model_number = 2\n",
        "def define_model(input_shape = (221,199,1)):\n",
        "    #create model\n",
        "    model = Sequential()\n",
        "\n",
        "    #add model layers\n",
        "    model.add(Conv2D(32, kernel_size=5, activation='relu', input_shape=input_shape))\n",
        "    #model.add(MaxPool2D())\n",
        "    model.add(Conv2D(64, kernel_size=5, activation='relu', input_shape=input_shape))\n",
        "    #model.add(MaxPool2D())\n",
        "    model.add(Conv2D(128, kernel_size=5, activation='relu', input_shape=input_shape))\n",
        "    model.add(MaxPool2D())\n",
        "    model.add(Conv2D(64, kernel_size=5, activation='relu'))\n",
        "    model.add(MaxPool2D())\n",
        "    model.add(Conv2D(64, kernel_size=5, activation='relu'))\n",
        "    model.add(MaxPool2D())\n",
        "    model.add(Flatten())\n",
        "    model.add(Dense(512, activation='relu'))\n",
        "    model.add(Dropout(0.2))\n",
        "    model.add(Dense(512, activation='relu'))\n",
        "    model.add(Dropout(0.2))\n",
        "    model.add(Dense(512, activation='relu'))\n",
        "    model.add(Dropout(0.2))\n",
        "    model.add(Dense(512, activation='relu'))\n",
        "    model.add(Dropout(0.2))\n",
        "    model.add(Dense(512, activation='relu'))\n",
        "    model.add(Dropout(0.2))\n",
        "    model.add(Dense(256, activation='relu'))\n",
        "    model.add(Dropout(0.2))\n",
        "    model.add(Dense(256, activation='relu'))\n",
        "    model.add(Dropout(0.2))\n",
        "    model.add(Dense(256, activation='relu'))\n",
        "    model.add(Dropout(0.2))\n",
        "    model.add(Dense(256, activation='relu'))\n",
        "    model.add(Dense(1, activation='sigmoid'))\n",
        "\n",
        "    #compile model using accuracy to measure model performance\n",
        "    adam = keras.optimizers.Adam(learning_rate=0.00001, beta_1=0.9, beta_2=0.999, amsgrad=False)\n",
        "    model.compile(optimizer=adam, loss='binary_crossentropy', metrics=['accuracy'])\n",
        "    plot_model(model, to_file='model.png', show_shapes=True)\n",
        "    return model"
      ],
      "execution_count": 0,
      "outputs": []
    },
    {
      "cell_type": "code",
      "metadata": {
        "id": "Av9poQAp_isD",
        "colab_type": "code",
        "colab": {}
      },
      "source": [
        "model_number = 3\n",
        "def define_model(input_shape = (221,199,1)):\n",
        "    #create model\n",
        "    model = Sequential()\n",
        "\n",
        "    #add model layers\n",
        "    model.add(Conv2D(128, kernel_size=5, activation='relu', input_shape=input_shape))\n",
        "    model.add(Conv2D(128, kernel_size=5, activation='relu'))\n",
        "    model.add(MaxPool2D())\n",
        "    model.add(Conv2D(192, kernel_size=5, activation='relu'))\n",
        "    model.add(Conv2D(192, kernel_size=5, activation='relu'))\n",
        "    model.add(MaxPool2D())\n",
        "    model.add(Conv2D(128, kernel_size=5, activation='relu'))\n",
        "    model.add(Conv2D(128, kernel_size=5, activation='relu'))\n",
        "    model.add(MaxPool2D())\n",
        "    model.add(Flatten())\n",
        "    model.add(Dense(512, activation='softplus'))\n",
        "    model.add(Dropout(0.2))\n",
        "    model.add(Dense(512, activation='softplus'))\n",
        "    model.add(Dropout(0.2))\n",
        "    model.add(Dense(512, activation='softplus'))\n",
        "    model.add(Dropout(0.2))\n",
        "    model.add(Dense(512, activation='softplus'))\n",
        "    model.add(Dropout(0.2))\n",
        "    model.add(Dense(512, activation='softplus'))\n",
        "    model.add(Dropout(0.2))\n",
        "    model.add(Dense(256, activation='softplus'))\n",
        "    model.add(Dropout(0.2))\n",
        "    model.add(Dense(256, activation='softplus'))\n",
        "    model.add(Dropout(0.2))\n",
        "    model.add(Dense(256, activation='softplus'))\n",
        "    model.add(Dropout(0.2))\n",
        "    model.add(Dense(256, activation='softplus'))\n",
        "    model.add(Dense(1, activation='sigmoid'))\n",
        "\n",
        "    #compile model using accuracy to measure model performance\n",
        "    adam = keras.optimizers.Adam(learning_rate=0.00001, beta_1=0.9, beta_2=0.999, amsgrad=False)\n",
        "    model.compile(optimizer=adam, loss='binary_crossentropy', metrics=['accuracy'])\n",
        "    plot_model(model, to_file='model.png', show_shapes=True)\n",
        "    return model"
      ],
      "execution_count": 0,
      "outputs": []
    },
    {
      "cell_type": "markdown",
      "metadata": {
        "id": "6FicMokDP6p2",
        "colab_type": "text"
      },
      "source": [
        "### Phase 4\n",
        "The big change here is in the data presented to the model, which has changed from a linear spectrogram with dimensions (221, 199, 1) to a mel spectrogram with dimensions (128, 87, 1). The mel representation should expose the relevant features of a sample more easily."
      ]
    },
    {
      "cell_type": "code",
      "metadata": {
        "id": "gK0rVCmBfV3L",
        "colab_type": "code",
        "colab": {}
      },
      "source": [
        "model_number = 1\n",
        "def define_model(input_shape = (128,87,1)):\n",
        "    #create model\n",
        "    model = Sequential()\n",
        "\n",
        "    #add model layers\n",
        "    model.add(Conv2D(32, kernel_size=3, activation='relu', input_shape=input_shape))\n",
        "    model.add(Conv2D(32, kernel_size=3, activation='relu'))\n",
        "    model.add(MaxPool2D())\n",
        "    model.add(Conv2D(48, kernel_size=3, activation='relu'))\n",
        "    model.add(Conv2D(48, kernel_size=3, activation='relu'))\n",
        "    model.add(MaxPool2D())\n",
        "    model.add(Conv2D(32, kernel_size=3, activation='relu'))\n",
        "    model.add(Conv2D(32, kernel_size=3, activation='relu'))\n",
        "    model.add(MaxPool2D())\n",
        "    model.add(Flatten())\n",
        "    model.add(Dense(128, activation='softplus'))\n",
        "    model.add(Dropout(0.2))\n",
        "    model.add(Dense(128, activation='softplus'))\n",
        "    model.add(Dropout(0.2))\n",
        "    model.add(Dense(128, activation='softplus'))\n",
        "    model.add(Dropout(0.2))\n",
        "    model.add(Dense(128, activation='softplus'))\n",
        "    model.add(Dropout(0.2))\n",
        "    model.add(Dense(128, activation='softplus'))\n",
        "    model.add(Dropout(0.2))\n",
        "    model.add(Dense(64, activation='softplus'))\n",
        "    model.add(Dropout(0.2))\n",
        "    model.add(Dense(64, activation='softplus'))\n",
        "    model.add(Dropout(0.2))\n",
        "    model.add(Dense(64, activation='softplus'))\n",
        "    model.add(Dropout(0.2))\n",
        "    model.add(Dense(64, activation='softplus'))\n",
        "    model.add(Dense(1, activation='sigmoid'))\n",
        "\n",
        "    #compile model using accuracy to measure model performance\n",
        "    adam = keras.optimizers.Adam(learning_rate=0.00001, beta_1=0.9, beta_2=0.999, amsgrad=False)\n",
        "    model.compile(optimizer=adam, loss='binary_crossentropy', metrics=['accuracy'])\n",
        "    plot_model(model, to_file='model.png', show_shapes=True)\n",
        "    return model"
      ],
      "execution_count": 0,
      "outputs": []
    },
    {
      "cell_type": "code",
      "metadata": {
        "id": "3AONYq0TgOiE",
        "colab_type": "code",
        "colab": {}
      },
      "source": [
        "model_number = 2\n",
        "def define_model(input_shape = (128,87,1)):\n",
        "    #create model\n",
        "    model = Sequential()\n",
        "\n",
        "    #add model layers\n",
        "    model.add(Conv2D(32, kernel_size=5, activation='relu', input_shape=input_shape))\n",
        "    model.add(Conv2D(32, kernel_size=5, activation='relu'))\n",
        "    model.add(MaxPool2D())\n",
        "    model.add(Conv2D(48, kernel_size=5, activation='relu'))\n",
        "    model.add(Conv2D(48, kernel_size=5, activation='relu'))\n",
        "    model.add(MaxPool2D())\n",
        "    model.add(Conv2D(32, kernel_size=3, activation='relu'))\n",
        "    model.add(Conv2D(32, kernel_size=3, activation='relu'))\n",
        "    model.add(MaxPool2D())\n",
        "    model.add(Flatten())\n",
        "    model.add(Dense(256, activation='softplus'))\n",
        "    model.add(Dropout(0.2))\n",
        "    model.add(Dense(128, activation='softplus'))\n",
        "    model.add(Dropout(0.2))\n",
        "    model.add(Dense(128, activation='softplus'))\n",
        "    model.add(Dropout(0.2))\n",
        "    model.add(Dense(64, activation='softplus'))\n",
        "    model.add(Dropout(0.2))\n",
        "    model.add(Dense(64, activation='softplus'))\n",
        "    model.add(Dropout(0.2))\n",
        "    model.add(Dense(64, activation='softplus'))\n",
        "    model.add(Dense(1, activation='sigmoid'))\n",
        "\n",
        "    #compile model using accuracy to measure model performance\n",
        "    adam = keras.optimizers.Adam(learning_rate=0.000005, beta_1=0.9, beta_2=0.999, amsgrad=False)\n",
        "    model.compile(optimizer=adam, loss='binary_crossentropy', metrics=['accuracy'])\n",
        "    plot_model(model, to_file='model.png', show_shapes=True)\n",
        "    return model"
      ],
      "execution_count": 0,
      "outputs": []
    },
    {
      "cell_type": "markdown",
      "metadata": {
        "id": "FmRpm_iK8fLA",
        "colab_type": "text"
      },
      "source": [
        "## Training"
      ]
    },
    {
      "cell_type": "markdown",
      "metadata": {
        "id": "GpR5zWC7tz06",
        "colab_type": "text"
      },
      "source": [
        "The `train` function runs the `model` on the `dataset` for n `epochs`, using callbacks for early stopping if and when the model starts overfitting, with a delay defined in `patience` as the number the epochs waits until stopping the training, and another callback to checkpoint the best weights."
      ]
    },
    {
      "cell_type": "code",
      "metadata": {
        "id": "NoNVDk2TmJhG",
        "colab_type": "code",
        "colab": {}
      },
      "source": [
        "def train(model, dataset, model_name, epochs=20, patience=3):\n",
        "    callbacks_list = []\n",
        "    # patience\n",
        "    if patience > 0:\n",
        "        #es_callback = tf.keras.callbacks.EarlyStopping(monitor='val_loss', patience=patience)\n",
        "        #callbacks_list.append(es_callback)\n",
        "        reduce_lr = tf.keras.callbacks.ReduceLROnPlateau(monitor='val_loss', factor=0.25,\n",
        "                              patience=patience, min_lr=0.00000001, cooldown=5)\n",
        "        callbacks_list.append(reduce_lr)\n",
        "    # checkpoint\n",
        "    checkpoint_dir = 'content/'\n",
        "    try:\n",
        "        checkpoint_dir = work_path\n",
        "    except NameError:\n",
        "        print('Storing checkpoint values locally.')\n",
        "    filepath=os.path.join(checkpoint_dir, \"model#\" + str(model_name) + \"-acc{val_accuracy:.3f}-loss{val_loss:.3f}@{epoch:02d}.hdf5\")\n",
        "    #filepath=os.path.join(checkpoint_dir, \"weights-improvement-{val_accuracy:.2f}.hdf5\")\n",
        "    checkpoint = tf.keras.callbacks.ModelCheckpoint(filepath, monitor='val_accuracy', save_best_only=True, mode='max')\n",
        "    \n",
        "    callbacks_list.append(checkpoint)\n",
        "    # training\n",
        "    history = model.fit(dataset.train_seq, validation_data=dataset.test_set, epochs=epochs, callbacks=callbacks_list)\n",
        "\n",
        "    # Plot training & validation accuracy values\n",
        "    plt.plot(history.history['accuracy'])\n",
        "    plt.plot(history.history['val_accuracy'])\n",
        "    plt.title('Model accuracy')\n",
        "    plt.ylabel('Accuracy')\n",
        "    plt.xlabel('Epoch')\n",
        "    plt.legend(['Train', 'Test'], loc='upper left')\n",
        "    plt.show()\n",
        "\n",
        "    # Plot training & validation loss values\n",
        "    plt.plot(history.history['loss'])\n",
        "    plt.plot(history.history['val_loss'])\n",
        "    plt.title('Model loss')\n",
        "    plt.ylabel('Loss')\n",
        "    plt.xlabel('Epoch')\n",
        "    plt.legend(['Train', 'Test'], loc='upper left')\n",
        "    plt.show()\n",
        "\n",
        "    return history"
      ],
      "execution_count": 0,
      "outputs": []
    },
    {
      "cell_type": "code",
      "metadata": {
        "id": "3BXQpnSwqL2F",
        "colab_type": "code",
        "outputId": "6e68f8ea-d7a8-4136-d400-437ceb345b6f",
        "colab": {
          "base_uri": "https://localhost:8080/",
          "height": 883
        }
      },
      "source": [
        "history = []\n",
        "with strategy.scope():\n",
        "    data = DatasetHandler(batch_size = 32)\n",
        "    model = define_model(input_shape = (128,87,1))\n",
        "    history = train(model, data, model_number, epochs=25)"
      ],
      "execution_count": 0,
      "outputs": [
        {
          "output_type": "stream",
          "text": [
            "Audio Handler initialized.\n",
            "Audio Handler initialized.\n",
            "DataSequence initialized.\n",
            "DatasetHandler initialized.\n",
            "Epoch 1/25\n",
            "2040/2040 [==============================] - 773s 379ms/step - loss: 0.4993 - accuracy: 0.8019 - val_loss: 0.4799 - val_accuracy: 0.8060 - lr: 1.0000e-05\n",
            "Epoch 2/25\n",
            "2040/2040 [==============================] - 777s 381ms/step - loss: 0.4816 - accuracy: 0.8018 - val_loss: 0.4508 - val_accuracy: 0.8116 - lr: 1.0000e-05\n",
            "Epoch 3/25\n",
            "2040/2040 [==============================] - 773s 379ms/step - loss: 0.4607 - accuracy: 0.8064 - val_loss: 0.4246 - val_accuracy: 0.8233 - lr: 1.0000e-05\n",
            "Epoch 4/25\n",
            "2040/2040 [==============================] - 778s 382ms/step - loss: 0.4447 - accuracy: 0.8096 - val_loss: 0.4042 - val_accuracy: 0.8257 - lr: 1.0000e-05\n",
            "Epoch 5/25\n",
            "2040/2040 [==============================] - 778s 381ms/step - loss: 0.4199 - accuracy: 0.8207 - val_loss: 0.3788 - val_accuracy: 0.8493 - lr: 1.0000e-05\n",
            "Epoch 6/25\n",
            "2040/2040 [==============================] - 773s 379ms/step - loss: 0.4029 - accuracy: 0.8299 - val_loss: 0.3579 - val_accuracy: 0.8555 - lr: 1.0000e-05\n",
            "Epoch 7/25\n",
            "2040/2040 [==============================] - 775s 380ms/step - loss: 0.3904 - accuracy: 0.8346 - val_loss: 0.3509 - val_accuracy: 0.8555 - lr: 1.0000e-05\n",
            "Epoch 8/25\n",
            "2040/2040 [==============================] - 780s 382ms/step - loss: 0.3802 - accuracy: 0.8398 - val_loss: 0.3425 - val_accuracy: 0.8611 - lr: 1.0000e-05\n",
            "Epoch 9/25\n",
            "2040/2040 [==============================] - 785s 385ms/step - loss: 0.3730 - accuracy: 0.8443 - val_loss: 0.3395 - val_accuracy: 0.8636 - lr: 1.0000e-05\n",
            "Epoch 10/25\n",
            "2040/2040 [==============================] - 783s 384ms/step - loss: 0.3656 - accuracy: 0.8472 - val_loss: 0.3258 - val_accuracy: 0.8672 - lr: 1.0000e-05\n",
            "Epoch 11/25\n",
            "2040/2040 [==============================] - 787s 386ms/step - loss: 0.3587 - accuracy: 0.8525 - val_loss: 0.3254 - val_accuracy: 0.8658 - lr: 1.0000e-05\n",
            "Epoch 12/25\n",
            "2040/2040 [==============================] - 787s 386ms/step - loss: 0.3495 - accuracy: 0.8555 - val_loss: 0.3142 - val_accuracy: 0.8770 - lr: 1.0000e-05\n",
            "Epoch 13/25\n",
            "2040/2040 [==============================] - 789s 387ms/step - loss: 0.3447 - accuracy: 0.8602 - val_loss: 0.3156 - val_accuracy: 0.8738 - lr: 1.0000e-05\n",
            "Epoch 14/25\n",
            "2040/2040 [==============================] - 783s 384ms/step - loss: 0.3375 - accuracy: 0.8622 - val_loss: 0.3063 - val_accuracy: 0.8800 - lr: 1.0000e-05\n",
            "Epoch 15/25\n",
            "2040/2040 [==============================] - 779s 382ms/step - loss: 0.3339 - accuracy: 0.8642 - val_loss: 0.3002 - val_accuracy: 0.8814 - lr: 1.0000e-05\n",
            "Epoch 16/25\n",
            "2040/2040 [==============================] - 783s 384ms/step - loss: 0.3254 - accuracy: 0.8684 - val_loss: 0.2937 - val_accuracy: 0.8836 - lr: 1.0000e-05\n",
            "Epoch 17/25\n",
            "2040/2040 [==============================] - 786s 385ms/step - loss: 0.3226 - accuracy: 0.8700 - val_loss: 0.2931 - val_accuracy: 0.8840 - lr: 1.0000e-05\n",
            "Epoch 18/25\n",
            "2040/2040 [==============================] - 783s 384ms/step - loss: 0.3157 - accuracy: 0.8742 - val_loss: 0.2887 - val_accuracy: 0.8850 - lr: 1.0000e-05\n",
            "Epoch 19/25\n",
            "2040/2040 [==============================] - 782s 383ms/step - loss: 0.3127 - accuracy: 0.8759 - val_loss: 0.2809 - val_accuracy: 0.8909 - lr: 1.0000e-05\n",
            "Epoch 20/25\n",
            "2040/2040 [==============================] - 783s 384ms/step - loss: 0.3050 - accuracy: 0.8790 - val_loss: 0.2722 - val_accuracy: 0.8956 - lr: 1.0000e-05\n",
            "Epoch 21/25\n",
            "2040/2040 [==============================] - 787s 386ms/step - loss: 0.3028 - accuracy: 0.8814 - val_loss: 0.2700 - val_accuracy: 0.8962 - lr: 1.0000e-05\n",
            "Epoch 22/25\n",
            "2040/2040 [==============================] - 793s 389ms/step - loss: 0.2972 - accuracy: 0.8824 - val_loss: 0.2841 - val_accuracy: 0.8891 - lr: 1.0000e-05\n",
            "Epoch 23/25\n",
            "1073/2040 [==============>...............] - ETA: 6:17 - loss: 0.2924 - accuracy: 0.8865"
          ],
          "name": "stdout"
        }
      ]
    },
    {
      "cell_type": "code",
      "metadata": {
        "id": "LvISKp1cAxW8",
        "colab_type": "code",
        "outputId": "ce452179-03a0-46c6-8cd5-fb844893dc0f",
        "colab": {
          "base_uri": "https://localhost:8080/",
          "height": 329
        }
      },
      "source": [
        "history = []\n",
        "with strategy.scope():\n",
        "    data = DatasetHandler(batch_size = 64)\n",
        "    model = define_model()\n",
        "    model.load_weights(\"/content/drive/My Drive/Eng Mecatrônica/5o Ano/TCC/model#1-acc0.944-loss0.169@08.hdf5\")\n",
        "    history = train(model, data, model_number, epochs=10)"
      ],
      "execution_count": 0,
      "outputs": [
        {
          "output_type": "stream",
          "text": [
            "Audio Handler initialized.\n",
            "Audio Handler initialized.\n",
            "DataSequence initialized.\n",
            "DatasetHandler initialized.\n",
            "Epoch 1/10\n",
            "1407/1407 [==============================] - 1052s 748ms/step - loss: 0.1522 - accuracy: 0.9449 - val_loss: 0.1491 - val_accuracy: 0.9496 - lr: 1.0000e-05\n",
            "Epoch 2/10\n",
            "1407/1407 [==============================] - 1041s 740ms/step - loss: 0.1470 - accuracy: 0.9476 - val_loss: 0.1506 - val_accuracy: 0.9476 - lr: 1.0000e-05\n",
            "Epoch 3/10\n",
            "1407/1407 [==============================] - 1039s 739ms/step - loss: 0.1438 - accuracy: 0.9486 - val_loss: 0.1484 - val_accuracy: 0.9492 - lr: 1.0000e-05\n",
            "Epoch 4/10\n",
            "1407/1407 [==============================] - 1029s 732ms/step - loss: 0.1412 - accuracy: 0.9491 - val_loss: 0.1578 - val_accuracy: 0.9428 - lr: 1.0000e-05\n",
            "Epoch 5/10\n",
            "1407/1407 [==============================] - 1031s 733ms/step - loss: 0.1402 - accuracy: 0.9502 - val_loss: 0.1434 - val_accuracy: 0.9521 - lr: 1.0000e-05\n",
            "Epoch 6/10\n",
            "1407/1407 [==============================] - 1029s 731ms/step - loss: 0.1352 - accuracy: 0.9515 - val_loss: 0.1426 - val_accuracy: 0.9543 - lr: 1.0000e-05\n",
            "Epoch 7/10\n",
            "  17/1407 [..............................] - ETA: 16:14 - loss: 0.1492 - accuracy: 0.9458"
          ],
          "name": "stdout"
        }
      ]
    },
    {
      "cell_type": "code",
      "metadata": {
        "id": "lUE3wcaNJPju",
        "colab_type": "code",
        "outputId": "2417cc00-9d1a-465b-d293-acd187323cf3",
        "colab": {
          "base_uri": "https://localhost:8080/",
          "height": 1000
        }
      },
      "source": [
        "with strategy.scope():\n",
        "    data = DatasetHandler(batch_size = 8)\n",
        "    model = define_model()\n",
        "    model.load_weights(\"/content/drive/My Drive/Eng Mecatrônica/5o Ano/TCC/weights-model#18-sp2all-0.934@14.hdf5\")\n",
        "    history = train(model, data, 'model#18-sp2all', epochs=20)"
      ],
      "execution_count": 0,
      "outputs": [
        {
          "output_type": "stream",
          "text": [
            "Audio Handler initialized.\n",
            "Audio Handler initialized.\n",
            "DataSequence initialized.\n",
            "DatasetHandler initialized.\n",
            "Epoch 1/20\n",
            "4501/4501 [==============================] - 212s 47ms/step - loss: 0.0109 - accuracy: 0.9866 - val_loss: 0.0630 - val_accuracy: 0.9265 - lr: 1.0000e-05\n",
            "Epoch 2/20\n",
            "4501/4501 [==============================] - 201s 45ms/step - loss: 0.0089 - accuracy: 0.9884 - val_loss: 0.0623 - val_accuracy: 0.9277 - lr: 1.0000e-05\n",
            "Epoch 3/20\n",
            "4501/4501 [==============================] - 186s 41ms/step - loss: 0.0080 - accuracy: 0.9893 - val_loss: 0.0593 - val_accuracy: 0.9323 - lr: 1.0000e-05\n",
            "Epoch 4/20\n",
            "4501/4501 [==============================] - 185s 41ms/step - loss: 0.0076 - accuracy: 0.9902 - val_loss: 0.0603 - val_accuracy: 0.9293 - lr: 1.0000e-05\n",
            "Epoch 5/20\n",
            "4501/4501 [==============================] - 184s 41ms/step - loss: 0.0084 - accuracy: 0.9885 - val_loss: 0.0605 - val_accuracy: 0.9290 - lr: 1.0000e-05\n",
            "Epoch 6/20\n",
            "4501/4501 [==============================] - 184s 41ms/step - loss: 0.0073 - accuracy: 0.9905 - val_loss: 0.0671 - val_accuracy: 0.9210 - lr: 1.0000e-05\n",
            "Epoch 7/20\n",
            "4501/4501 [==============================] - 184s 41ms/step - loss: 0.0059 - accuracy: 0.9923 - val_loss: 0.0650 - val_accuracy: 0.9252 - lr: 7.5000e-06\n",
            "Epoch 8/20\n",
            "4501/4501 [==============================] - 184s 41ms/step - loss: 0.0053 - accuracy: 0.9933 - val_loss: 0.0620 - val_accuracy: 0.9270 - lr: 7.5000e-06\n",
            "Epoch 9/20\n",
            "4501/4501 [==============================] - 185s 41ms/step - loss: 0.0059 - accuracy: 0.9924 - val_loss: 0.0649 - val_accuracy: 0.9268 - lr: 7.5000e-06\n",
            "Epoch 10/20\n",
            "4501/4501 [==============================] - 184s 41ms/step - loss: 0.0050 - accuracy: 0.9939 - val_loss: 0.0642 - val_accuracy: 0.9260 - lr: 7.5000e-06\n",
            "Epoch 11/20\n",
            "4501/4501 [==============================] - 184s 41ms/step - loss: 0.0054 - accuracy: 0.9927 - val_loss: 0.0614 - val_accuracy: 0.9285 - lr: 7.5000e-06\n",
            "Epoch 12/20\n",
            "4501/4501 [==============================] - 184s 41ms/step - loss: 0.0054 - accuracy: 0.9927 - val_loss: 0.0646 - val_accuracy: 0.9252 - lr: 7.5000e-06\n",
            "Epoch 13/20\n",
            "4501/4501 [==============================] - 184s 41ms/step - loss: 0.0045 - accuracy: 0.9942 - val_loss: 0.0660 - val_accuracy: 0.9268 - lr: 7.5000e-06\n",
            "Epoch 14/20\n",
            "4501/4501 [==============================] - 184s 41ms/step - loss: 0.0037 - accuracy: 0.9952 - val_loss: 0.0698 - val_accuracy: 0.9225 - lr: 5.6250e-06\n",
            "Epoch 15/20\n",
            "4501/4501 [==============================] - 184s 41ms/step - loss: 0.0032 - accuracy: 0.9960 - val_loss: 0.0619 - val_accuracy: 0.9287 - lr: 5.6250e-06\n",
            "Epoch 16/20\n",
            "4501/4501 [==============================] - 184s 41ms/step - loss: 0.0042 - accuracy: 0.9946 - val_loss: 0.0654 - val_accuracy: 0.9250 - lr: 5.6250e-06\n",
            "Epoch 17/20\n",
            "4501/4501 [==============================] - 185s 41ms/step - loss: 0.0033 - accuracy: 0.9961 - val_loss: 0.0657 - val_accuracy: 0.9270 - lr: 5.6250e-06\n",
            "Epoch 18/20\n",
            "4501/4501 [==============================] - 184s 41ms/step - loss: 0.0034 - accuracy: 0.9956 - val_loss: 0.0639 - val_accuracy: 0.9285 - lr: 5.6250e-06\n",
            "Epoch 19/20\n",
            "4501/4501 [==============================] - 184s 41ms/step - loss: 0.0036 - accuracy: 0.9956 - val_loss: 0.0660 - val_accuracy: 0.9270 - lr: 5.6250e-06\n",
            "Epoch 20/20\n",
            "4501/4501 [==============================] - 184s 41ms/step - loss: 0.0036 - accuracy: 0.9952 - val_loss: 0.0606 - val_accuracy: 0.9305 - lr: 5.6250e-06\n"
          ],
          "name": "stdout"
        },
        {
          "output_type": "display_data",
          "data": {
            "image/png": "[encoded data removed]",
            "text/plain": [
              "<Figure size 432x288 with 1 Axes>"
            ]
          },
          "metadata": {
            "tags": [],
            "needs_background": "light"
          }
        },
        {
          "output_type": "display_data",
          "data": {
            "image/png": "[encoded data removed]",
            "text/plain": [
              "<Figure size 432x288 with 1 Axes>"
            ]
          },
          "metadata": {
            "tags": [],
            "needs_background": "light"
          }
        }
      ]
    },
    {
      "cell_type": "code",
      "metadata": {
        "id": "pUsufDtnsEJ2",
        "colab_type": "code",
        "colab": {}
      },
      "source": [
        "with strategy.scope():\n",
        "    data = DatasetHandler(batch_size = 32, x_sel = 'speech', y_sel='activation')\n",
        "    model = define_model()\n",
        "    history = train(model, data, 'model#19-act2sp', epochs=75)"
      ],
      "execution_count": 0,
      "outputs": []
    },
    {
      "cell_type": "code",
      "metadata": {
        "id": "DpQK8B2IDn10",
        "colab_type": "code",
        "colab": {}
      },
      "source": [
        "with strategy.scope():\n",
        "    data = DatasetHandler(batch_size = 128)\n",
        "    model = define_model()\n",
        "    history = train(model, data, 'model#17-sp2all', epochs=75)"
      ],
      "execution_count": 0,
      "outputs": []
    },
    {
      "cell_type": "code",
      "metadata": {
        "id": "M5vqE2MgDm-K",
        "colab_type": "code",
        "colab": {}
      },
      "source": [
        "with strategy.scope():\n",
        "    data = DatasetHandler(batch_size = 128, x_sel = 'speech', y_sel='activation')\n",
        "    model = define_model()\n",
        "    history = train(model, data, 'model#17-act2sp', epochs=75)"
      ],
      "execution_count": 0,
      "outputs": []
    },
    {
      "cell_type": "markdown",
      "metadata": {
        "id": "DTJD8gOm3T5h",
        "colab_type": "text"
      },
      "source": [
        "## Validation"
      ]
    },
    {
      "cell_type": "markdown",
      "metadata": {
        "id": "Lq6hV-GY3Wc0",
        "colab_type": "text"
      },
      "source": [
        ""
      ]
    },
    {
      "cell_type": "code",
      "metadata": {
        "id": "TrhUpjMa3lC1",
        "colab_type": "code",
        "colab": {}
      },
      "source": [
        "def load_weights(model, path_to_weights):\n",
        "    return model.load_weights(path_to_weights)"
      ],
      "execution_count": 0,
      "outputs": []
    },
    {
      "cell_type": "code",
      "metadata": {
        "id": "WdyMZtRK3YST",
        "colab_type": "code",
        "outputId": "39a611fa-0b95-4412-d0de-63e5ec1031f6",
        "colab": {
          "base_uri": "https://localhost:8080/",
          "height": 380
        }
      },
      "source": [
        "model = define_model()\n",
        "model.load_weights(\"/content/drive/My Drive/Eng Mecatrônica/5o Ano/TCC/model#1-acc0.935-loss0.197@13.hdf5\")\n",
        "data = DatasetHandler(x_sel = 'all', y_sel='speech')\n",
        "misclassified = []\n",
        "print('Processing {} samples. Please wait...'.format(len(data.test_set[0])))\n",
        "for i in range(len(data.test_set[0])):\n",
        "    x = np.expand_dims(data.test_set[0][i], axis=0)\n",
        "    y = data.test_set[1][i]\n",
        "    y_pred = round(model.predict(x)[0][0])\n",
        "    if y != y_pred:\n",
        "        misclassified.append(data.samples['test'][i])\n",
        "print('Done.')"
      ],
      "execution_count": 0,
      "outputs": [
        {
          "output_type": "error",
          "ename": "ValueError",
          "evalue": "ignored",
          "traceback": [
            "\u001b[0;31m---------------------------------------------------------------------------\u001b[0m",
            "\u001b[0;31mValueError\u001b[0m                                Traceback (most recent call last)",
            "\u001b[0;32m<ipython-input-43-ad949083e54d>\u001b[0m in \u001b[0;36m<module>\u001b[0;34m()\u001b[0m\n\u001b[1;32m      1\u001b[0m \u001b[0mmodel\u001b[0m \u001b[0;34m=\u001b[0m \u001b[0mdefine_model\u001b[0m\u001b[0;34m(\u001b[0m\u001b[0;34m)\u001b[0m\u001b[0;34m\u001b[0m\u001b[0;34m\u001b[0m\u001b[0m\n\u001b[0;32m----> 2\u001b[0;31m \u001b[0mmodel\u001b[0m\u001b[0;34m.\u001b[0m\u001b[0mload_weights\u001b[0m\u001b[0;34m(\u001b[0m\u001b[0;34m\"/content/drive/My Drive/Eng Mecatrônica/5o Ano/TCC/model#1-acc0.935-loss0.197@13.hdf5\"\u001b[0m\u001b[0;34m)\u001b[0m\u001b[0;34m\u001b[0m\u001b[0;34m\u001b[0m\u001b[0m\n\u001b[0m\u001b[1;32m      3\u001b[0m \u001b[0mdata\u001b[0m \u001b[0;34m=\u001b[0m \u001b[0mDatasetHandler\u001b[0m\u001b[0;34m(\u001b[0m\u001b[0mx_sel\u001b[0m \u001b[0;34m=\u001b[0m \u001b[0;34m'all'\u001b[0m\u001b[0;34m,\u001b[0m \u001b[0my_sel\u001b[0m\u001b[0;34m=\u001b[0m\u001b[0;34m'speech'\u001b[0m\u001b[0;34m)\u001b[0m\u001b[0;34m\u001b[0m\u001b[0;34m\u001b[0m\u001b[0m\n\u001b[1;32m      4\u001b[0m \u001b[0mmisclassified\u001b[0m \u001b[0;34m=\u001b[0m \u001b[0;34m[\u001b[0m\u001b[0;34m]\u001b[0m\u001b[0;34m\u001b[0m\u001b[0;34m\u001b[0m\u001b[0m\n\u001b[1;32m      5\u001b[0m \u001b[0mprint\u001b[0m\u001b[0;34m(\u001b[0m\u001b[0;34m'Processing {} samples. Please wait...'\u001b[0m\u001b[0;34m.\u001b[0m\u001b[0mformat\u001b[0m\u001b[0;34m(\u001b[0m\u001b[0mlen\u001b[0m\u001b[0;34m(\u001b[0m\u001b[0mdata\u001b[0m\u001b[0;34m.\u001b[0m\u001b[0mtest_set\u001b[0m\u001b[0;34m[\u001b[0m\u001b[0;36m0\u001b[0m\u001b[0;34m]\u001b[0m\u001b[0;34m)\u001b[0m\u001b[0;34m)\u001b[0m\u001b[0;34m)\u001b[0m\u001b[0;34m\u001b[0m\u001b[0;34m\u001b[0m\u001b[0m\n",
            "\u001b[0;32m/usr/local/lib/python3.6/dist-packages/tensorflow/python/keras/engine/training.py\u001b[0m in \u001b[0;36mload_weights\u001b[0;34m(self, filepath, by_name, skip_mismatch)\u001b[0m\n\u001b[1;32m    248\u001b[0m         raise ValueError('Load weights is not yet supported with TPUStrategy '\n\u001b[1;32m    249\u001b[0m                          'with steps_per_run greater than 1.')\n\u001b[0;32m--> 250\u001b[0;31m     \u001b[0;32mreturn\u001b[0m \u001b[0msuper\u001b[0m\u001b[0;34m(\u001b[0m\u001b[0mModel\u001b[0m\u001b[0;34m,\u001b[0m \u001b[0mself\u001b[0m\u001b[0;34m)\u001b[0m\u001b[0;34m.\u001b[0m\u001b[0mload_weights\u001b[0m\u001b[0;34m(\u001b[0m\u001b[0mfilepath\u001b[0m\u001b[0;34m,\u001b[0m \u001b[0mby_name\u001b[0m\u001b[0;34m,\u001b[0m \u001b[0mskip_mismatch\u001b[0m\u001b[0;34m)\u001b[0m\u001b[0;34m\u001b[0m\u001b[0;34m\u001b[0m\u001b[0m\n\u001b[0m\u001b[1;32m    251\u001b[0m \u001b[0;34m\u001b[0m\u001b[0m\n\u001b[1;32m    252\u001b[0m   def compile(self,\n",
            "\u001b[0;32m/usr/local/lib/python3.6/dist-packages/tensorflow/python/keras/engine/network.py\u001b[0m in \u001b[0;36mload_weights\u001b[0;34m(self, filepath, by_name, skip_mismatch)\u001b[0m\n\u001b[1;32m   1264\u001b[0m             f, self.layers, skip_mismatch=skip_mismatch)\n\u001b[1;32m   1265\u001b[0m       \u001b[0;32melse\u001b[0m\u001b[0;34m:\u001b[0m\u001b[0;34m\u001b[0m\u001b[0;34m\u001b[0m\u001b[0m\n\u001b[0;32m-> 1266\u001b[0;31m         \u001b[0mhdf5_format\u001b[0m\u001b[0;34m.\u001b[0m\u001b[0mload_weights_from_hdf5_group\u001b[0m\u001b[0;34m(\u001b[0m\u001b[0mf\u001b[0m\u001b[0;34m,\u001b[0m \u001b[0mself\u001b[0m\u001b[0;34m.\u001b[0m\u001b[0mlayers\u001b[0m\u001b[0;34m)\u001b[0m\u001b[0;34m\u001b[0m\u001b[0;34m\u001b[0m\u001b[0m\n\u001b[0m\u001b[1;32m   1267\u001b[0m \u001b[0;34m\u001b[0m\u001b[0m\n\u001b[1;32m   1268\u001b[0m   \u001b[0;32mdef\u001b[0m \u001b[0m_updated_config\u001b[0m\u001b[0;34m(\u001b[0m\u001b[0mself\u001b[0m\u001b[0;34m)\u001b[0m\u001b[0;34m:\u001b[0m\u001b[0;34m\u001b[0m\u001b[0;34m\u001b[0m\u001b[0m\n",
            "\u001b[0;32m/usr/local/lib/python3.6/dist-packages/tensorflow/python/keras/saving/hdf5_format.py\u001b[0m in \u001b[0;36mload_weights_from_hdf5_group\u001b[0;34m(f, layers)\u001b[0m\n\u001b[1;32m    683\u001b[0m                      \u001b[0;34m'containing '\u001b[0m \u001b[0;34m+\u001b[0m \u001b[0mstr\u001b[0m\u001b[0;34m(\u001b[0m\u001b[0mlen\u001b[0m\u001b[0;34m(\u001b[0m\u001b[0mlayer_names\u001b[0m\u001b[0;34m)\u001b[0m\u001b[0;34m)\u001b[0m \u001b[0;34m+\u001b[0m\u001b[0;34m\u001b[0m\u001b[0;34m\u001b[0m\u001b[0m\n\u001b[1;32m    684\u001b[0m                      \u001b[0;34m' layers into a model with '\u001b[0m \u001b[0;34m+\u001b[0m \u001b[0mstr\u001b[0m\u001b[0;34m(\u001b[0m\u001b[0mlen\u001b[0m\u001b[0;34m(\u001b[0m\u001b[0mfiltered_layers\u001b[0m\u001b[0;34m)\u001b[0m\u001b[0;34m)\u001b[0m \u001b[0;34m+\u001b[0m\u001b[0;34m\u001b[0m\u001b[0;34m\u001b[0m\u001b[0m\n\u001b[0;32m--> 685\u001b[0;31m                      ' layers.')\n\u001b[0m\u001b[1;32m    686\u001b[0m \u001b[0;34m\u001b[0m\u001b[0m\n\u001b[1;32m    687\u001b[0m   \u001b[0;31m# We batch weight value assignments in a single backend call\u001b[0m\u001b[0;34m\u001b[0m\u001b[0;34m\u001b[0m\u001b[0;34m\u001b[0m\u001b[0m\n",
            "\u001b[0;31mValueError\u001b[0m: You are trying to load a weight file containing 16 layers into a model with 13 layers."
          ]
        }
      ]
    },
    {
      "cell_type": "code",
      "metadata": {
        "id": "nlwdVLcr6pJQ",
        "colab_type": "code",
        "colab": {}
      },
      "source": [
        "#audio = AudioHandler(\"/content/GENERATED\")\n",
        "#print(misclassified[:10])\n",
        "false_negative = []\n",
        "false_positive = []\n",
        "y_sel = 'speech'\n",
        "for filename in misclassified:\n",
        "    sample = filename.split('-')[1].split('.')[0]\n",
        "    has_speech = True if sample[0] == '1' else False\n",
        "    has_multi = True if sample[1] == '1' else False\n",
        "    has_activation = True if sample[2] == '1' else False\n",
        "    if y_sel == 'speech':\n",
        "        if has_speech:\n",
        "            false_negative.append(filename)\n",
        "        else:\n",
        "            false_positive.append(filename)\n",
        "    elif y_sel == 'multivoice':\n",
        "        if has_multi:\n",
        "            false_negative.append(filename)\n",
        "        else:\n",
        "            false_positive.append(filename)\n",
        "        y = has_multi\n",
        "    elif y_sel == 'activation':\n",
        "        if has_activation:\n",
        "            false_negative.append(filename)\n",
        "        else:\n",
        "            false_positive.append(filename)"
      ],
      "execution_count": 0,
      "outputs": []
    },
    {
      "cell_type": "code",
      "metadata": {
        "id": "HscZ8T8l-ZFw",
        "colab_type": "code",
        "colab": {}
      },
      "source": [
        "print('False negative: ', str(len(false_negative)))\n",
        "for sample in false_negative[0:10]:\n",
        "    print(sample)\n",
        "    sample_rate, samples = wavfile.read(os.path.join('/content/GENERATED', sample))\n",
        "    IPython.display.display(Audio(samples, rate=sample_rate))\n",
        "print('False positive: ', str(len(false_positive)))\n",
        "for sample in false_positive[0:10]:\n",
        "    print(sample)\n",
        "    sample_rate, samples = wavfile.read(os.path.join('/content/GENERATED', sample))\n",
        "    IPython.display.display(Audio(samples, rate=sample_rate))"
      ],
      "execution_count": 0,
      "outputs": []
    },
    {
      "cell_type": "code",
      "metadata": {
        "id": "iVrZC-EC-dYA",
        "colab_type": "code",
        "outputId": "78ee62b9-45ab-47e1-9d05-6118f84564be",
        "colab": {
          "base_uri": "https://localhost:8080/",
          "height": 34
        }
      },
      "source": [
        "print(len(os.listdir('/content/GENERATED')))"
      ],
      "execution_count": 0,
      "outputs": [
        {
          "output_type": "stream",
          "text": [
            "100010\n"
          ],
          "name": "stdout"
        }
      ]
    },
    {
      "cell_type": "code",
      "metadata": {
        "id": "qi7m90hLnzeR",
        "colab_type": "code",
        "outputId": "b3753a6a-e87c-4087-875c-87d7b7ca80dc",
        "colab": {
          "base_uri": "https://localhost:8080/",
          "height": 34
        }
      },
      "source": [
        "print('gfsdasdf'[-4:])"
      ],
      "execution_count": 0,
      "outputs": [
        {
          "output_type": "stream",
          "text": [
            "asdf\n"
          ],
          "name": "stdout"
        }
      ]
    },
    {
      "cell_type": "code",
      "metadata": {
        "id": "6V9YxaKuoDUK",
        "colab_type": "code",
        "outputId": "961823e6-953d-4f8f-8416-cec94a961160",
        "colab": {
          "base_uri": "https://localhost:8080/",
          "height": 362
        }
      },
      "source": [
        "data = DatasetHandler()"
      ],
      "execution_count": 0,
      "outputs": [
        {
          "output_type": "stream",
          "text": [
            "Audio Handler initialized.\n",
            "Audio Handler initialized.\n",
            "DataSequence initialized.\n"
          ],
          "name": "stdout"
        },
        {
          "output_type": "error",
          "ename": "KeyboardInterrupt",
          "evalue": "ignored",
          "traceback": [
            "\u001b[0;31m---------------------------------------------------------------------------\u001b[0m",
            "\u001b[0;31mKeyboardInterrupt\u001b[0m                         Traceback (most recent call last)",
            "\u001b[0;32m<ipython-input-23-b873f9850d86>\u001b[0m in \u001b[0;36m<module>\u001b[0;34m()\u001b[0m\n\u001b[0;32m----> 1\u001b[0;31m \u001b[0mdata\u001b[0m \u001b[0;34m=\u001b[0m \u001b[0mDatasetHandler\u001b[0m\u001b[0;34m(\u001b[0m\u001b[0;34m)\u001b[0m\u001b[0;34m\u001b[0m\u001b[0;34m\u001b[0m\u001b[0m\n\u001b[0m",
            "\u001b[0;32m<ipython-input-7-cfddd099e9c1>\u001b[0m in \u001b[0;36m__init__\u001b[0;34m(self, batch_size, test_proportion, x_sel, y_sel)\u001b[0m\n\u001b[1;32m      8\u001b[0m         \u001b[0mself\u001b[0m\u001b[0;34m.\u001b[0m\u001b[0msamples\u001b[0m \u001b[0;34m=\u001b[0m \u001b[0mself\u001b[0m\u001b[0;34m.\u001b[0m\u001b[0mget_sets\u001b[0m\u001b[0;34m(\u001b[0m\u001b[0mtest_proportion\u001b[0m\u001b[0;34m)\u001b[0m\u001b[0;34m\u001b[0m\u001b[0;34m\u001b[0m\u001b[0m\n\u001b[1;32m      9\u001b[0m         \u001b[0mself\u001b[0m\u001b[0;34m.\u001b[0m\u001b[0mtrain_seq\u001b[0m \u001b[0;34m=\u001b[0m \u001b[0mDataSequence\u001b[0m\u001b[0;34m(\u001b[0m\u001b[0mself\u001b[0m\u001b[0;34m.\u001b[0m\u001b[0msamples\u001b[0m\u001b[0;34m[\u001b[0m\u001b[0;34m'train'\u001b[0m\u001b[0;34m]\u001b[0m\u001b[0;34m,\u001b[0m \u001b[0mbatch_size\u001b[0m\u001b[0;34m,\u001b[0m \u001b[0mx_sel\u001b[0m\u001b[0;34m,\u001b[0m \u001b[0my_sel\u001b[0m\u001b[0;34m)\u001b[0m\u001b[0;34m\u001b[0m\u001b[0;34m\u001b[0m\u001b[0m\n\u001b[0;32m---> 10\u001b[0;31m         \u001b[0mself\u001b[0m\u001b[0;34m.\u001b[0m\u001b[0mtest_set\u001b[0m \u001b[0;34m=\u001b[0m \u001b[0mself\u001b[0m\u001b[0;34m.\u001b[0m\u001b[0mbuffer_files\u001b[0m\u001b[0;34m(\u001b[0m\u001b[0mself\u001b[0m\u001b[0;34m.\u001b[0m\u001b[0msamples\u001b[0m\u001b[0;34m[\u001b[0m\u001b[0;34m'test'\u001b[0m\u001b[0;34m]\u001b[0m\u001b[0;34m,\u001b[0m \u001b[0mx_sel\u001b[0m\u001b[0;34m,\u001b[0m \u001b[0my_sel\u001b[0m\u001b[0;34m)\u001b[0m\u001b[0;34m\u001b[0m\u001b[0;34m\u001b[0m\u001b[0m\n\u001b[0m\u001b[1;32m     11\u001b[0m         \u001b[0mprint\u001b[0m\u001b[0;34m(\u001b[0m\u001b[0;34m'DatasetHandler initialized.'\u001b[0m\u001b[0;34m)\u001b[0m\u001b[0;34m\u001b[0m\u001b[0;34m\u001b[0m\u001b[0m\n\u001b[1;32m     12\u001b[0m \u001b[0;34m\u001b[0m\u001b[0m\n",
            "\u001b[0;32m<ipython-input-7-cfddd099e9c1>\u001b[0m in \u001b[0;36mbuffer_files\u001b[0;34m(self, files, x_sel, y_sel)\u001b[0m\n\u001b[1;32m     28\u001b[0m             \u001b[0mhas_activation\u001b[0m \u001b[0;34m=\u001b[0m \u001b[0;36m1\u001b[0m \u001b[0;32mif\u001b[0m \u001b[0msample\u001b[0m\u001b[0;34m[\u001b[0m\u001b[0;36m2\u001b[0m\u001b[0;34m]\u001b[0m \u001b[0;34m==\u001b[0m \u001b[0;34m'1'\u001b[0m \u001b[0;32melse\u001b[0m \u001b[0;36m0\u001b[0m\u001b[0;34m\u001b[0m\u001b[0;34m\u001b[0m\u001b[0m\n\u001b[1;32m     29\u001b[0m             \u001b[0;32mif\u001b[0m \u001b[0mx_sel\u001b[0m \u001b[0;34m==\u001b[0m \u001b[0;34m'all'\u001b[0m\u001b[0;34m:\u001b[0m\u001b[0;34m\u001b[0m\u001b[0;34m\u001b[0m\u001b[0m\n\u001b[0;32m---> 30\u001b[0;31m                 \u001b[0mx\u001b[0m\u001b[0;34m.\u001b[0m\u001b[0mappend\u001b[0m\u001b[0;34m(\u001b[0m\u001b[0mnp\u001b[0m\u001b[0;34m.\u001b[0m\u001b[0mexpand_dims\u001b[0m\u001b[0;34m(\u001b[0m\u001b[0mself\u001b[0m\u001b[0;34m.\u001b[0m\u001b[0maudio\u001b[0m\u001b[0;34m.\u001b[0m\u001b[0mget_sample\u001b[0m\u001b[0;34m(\u001b[0m\u001b[0mf\u001b[0m\u001b[0;34m)\u001b[0m\u001b[0;34m,\u001b[0m \u001b[0maxis\u001b[0m\u001b[0;34m=\u001b[0m\u001b[0;36m2\u001b[0m\u001b[0;34m)\u001b[0m\u001b[0;34m)\u001b[0m\u001b[0;34m\u001b[0m\u001b[0;34m\u001b[0m\u001b[0m\n\u001b[0m\u001b[1;32m     31\u001b[0m                 \u001b[0;32mif\u001b[0m \u001b[0my_sel\u001b[0m \u001b[0;34m==\u001b[0m \u001b[0;34m'speech'\u001b[0m\u001b[0;34m:\u001b[0m\u001b[0;34m\u001b[0m\u001b[0;34m\u001b[0m\u001b[0m\n\u001b[1;32m     32\u001b[0m                     \u001b[0my\u001b[0m\u001b[0;34m.\u001b[0m\u001b[0mappend\u001b[0m\u001b[0;34m(\u001b[0m\u001b[0mhas_speech\u001b[0m\u001b[0;34m)\u001b[0m\u001b[0;34m\u001b[0m\u001b[0;34m\u001b[0m\u001b[0m\n",
            "\u001b[0;32m<ipython-input-20-9f1ada7190d0>\u001b[0m in \u001b[0;36mget_sample\u001b[0;34m(self, filename)\u001b[0m\n\u001b[1;32m     47\u001b[0m             \u001b[0mfilepath\u001b[0m \u001b[0;34m=\u001b[0m \u001b[0mos\u001b[0m\u001b[0;34m.\u001b[0m\u001b[0mpath\u001b[0m\u001b[0;34m.\u001b[0m\u001b[0mjoin\u001b[0m\u001b[0;34m(\u001b[0m\u001b[0mself\u001b[0m\u001b[0;34m.\u001b[0m\u001b[0mdataset_dir\u001b[0m\u001b[0;34m,\u001b[0m \u001b[0mfilename\u001b[0m\u001b[0;34m)\u001b[0m\u001b[0;34m\u001b[0m\u001b[0;34m\u001b[0m\u001b[0m\n\u001b[1;32m     48\u001b[0m             \u001b[0msample_rate\u001b[0m\u001b[0;34m,\u001b[0m \u001b[0msamples\u001b[0m \u001b[0;34m=\u001b[0m \u001b[0mwavfile\u001b[0m\u001b[0;34m.\u001b[0m\u001b[0mread\u001b[0m\u001b[0;34m(\u001b[0m\u001b[0mfilepath\u001b[0m\u001b[0;34m)\u001b[0m\u001b[0;34m\u001b[0m\u001b[0;34m\u001b[0m\u001b[0m\n\u001b[0;32m---> 49\u001b[0;31m             \u001b[0mspecgram\u001b[0m \u001b[0;34m=\u001b[0m \u001b[0mself\u001b[0m\u001b[0;34m.\u001b[0m\u001b[0mspectrogram\u001b[0m\u001b[0;34m(\u001b[0m\u001b[0msamples\u001b[0m\u001b[0;34m)\u001b[0m\u001b[0;34m\u001b[0m\u001b[0;34m\u001b[0m\u001b[0m\n\u001b[0m\u001b[1;32m     50\u001b[0m             \u001b[0;32mreturn\u001b[0m \u001b[0mspecgram\u001b[0m\u001b[0;34m\u001b[0m\u001b[0;34m\u001b[0m\u001b[0m\n\u001b[1;32m     51\u001b[0m         \u001b[0;32mexcept\u001b[0m \u001b[0mValueError\u001b[0m\u001b[0;34m:\u001b[0m\u001b[0;34m\u001b[0m\u001b[0;34m\u001b[0m\u001b[0m\n",
            "\u001b[0;32m<ipython-input-20-9f1ada7190d0>\u001b[0m in \u001b[0;36mspectrogram\u001b[0;34m(self, samples, sample_rate)\u001b[0m\n\u001b[1;32m     41\u001b[0m \u001b[0;34m\u001b[0m\u001b[0m\n\u001b[1;32m     42\u001b[0m     \u001b[0;32mdef\u001b[0m \u001b[0mspectrogram\u001b[0m\u001b[0;34m(\u001b[0m\u001b[0mself\u001b[0m\u001b[0;34m,\u001b[0m \u001b[0msamples\u001b[0m\u001b[0;34m,\u001b[0m \u001b[0msample_rate\u001b[0m \u001b[0;34m=\u001b[0m \u001b[0;36m22050\u001b[0m\u001b[0;34m)\u001b[0m\u001b[0;34m:\u001b[0m\u001b[0;34m\u001b[0m\u001b[0;34m\u001b[0m\u001b[0m\n\u001b[0;32m---> 43\u001b[0;31m         \u001b[0;32mreturn\u001b[0m \u001b[0mlib\u001b[0m\u001b[0;34m.\u001b[0m\u001b[0mfeature\u001b[0m\u001b[0;34m.\u001b[0m\u001b[0mmelspectrogram\u001b[0m\u001b[0;34m(\u001b[0m\u001b[0msamples\u001b[0m\u001b[0;34m,\u001b[0m \u001b[0msr\u001b[0m\u001b[0;34m=\u001b[0m\u001b[0msample_rate\u001b[0m\u001b[0;34m)\u001b[0m\u001b[0;34m\u001b[0m\u001b[0;34m\u001b[0m\u001b[0m\n\u001b[0m\u001b[1;32m     44\u001b[0m \u001b[0;34m\u001b[0m\u001b[0m\n\u001b[1;32m     45\u001b[0m     \u001b[0;32mdef\u001b[0m \u001b[0mget_sample\u001b[0m\u001b[0;34m(\u001b[0m\u001b[0mself\u001b[0m\u001b[0;34m,\u001b[0m \u001b[0mfilename\u001b[0m\u001b[0;34m)\u001b[0m\u001b[0;34m:\u001b[0m\u001b[0;34m\u001b[0m\u001b[0;34m\u001b[0m\u001b[0m\n",
            "\u001b[0;32m/usr/local/lib/python3.6/dist-packages/librosa/feature/spectral.py\u001b[0m in \u001b[0;36mmelspectrogram\u001b[0;34m(y, sr, S, n_fft, hop_length, win_length, window, center, pad_mode, power, **kwargs)\u001b[0m\n\u001b[1;32m   1832\u001b[0m \u001b[0;34m\u001b[0m\u001b[0m\n\u001b[1;32m   1833\u001b[0m     \u001b[0;31m# Build a Mel filter\u001b[0m\u001b[0;34m\u001b[0m\u001b[0;34m\u001b[0m\u001b[0;34m\u001b[0m\u001b[0m\n\u001b[0;32m-> 1834\u001b[0;31m     \u001b[0mmel_basis\u001b[0m \u001b[0;34m=\u001b[0m \u001b[0mfilters\u001b[0m\u001b[0;34m.\u001b[0m\u001b[0mmel\u001b[0m\u001b[0;34m(\u001b[0m\u001b[0msr\u001b[0m\u001b[0;34m,\u001b[0m \u001b[0mn_fft\u001b[0m\u001b[0;34m,\u001b[0m \u001b[0;34m**\u001b[0m\u001b[0mkwargs\u001b[0m\u001b[0;34m)\u001b[0m\u001b[0;34m\u001b[0m\u001b[0;34m\u001b[0m\u001b[0m\n\u001b[0m\u001b[1;32m   1835\u001b[0m \u001b[0;34m\u001b[0m\u001b[0m\n\u001b[1;32m   1836\u001b[0m     \u001b[0;32mreturn\u001b[0m \u001b[0mnp\u001b[0m\u001b[0;34m.\u001b[0m\u001b[0mdot\u001b[0m\u001b[0;34m(\u001b[0m\u001b[0mmel_basis\u001b[0m\u001b[0;34m,\u001b[0m \u001b[0mS\u001b[0m\u001b[0;34m)\u001b[0m\u001b[0;34m\u001b[0m\u001b[0;34m\u001b[0m\u001b[0m\n",
            "\u001b[0;32m/usr/local/lib/python3.6/dist-packages/librosa/filters.py\u001b[0m in \u001b[0;36mmel\u001b[0;34m(sr, n_fft, n_mels, fmin, fmax, htk, norm, dtype)\u001b[0m\n\u001b[1;32m    222\u001b[0m \u001b[0;34m\u001b[0m\u001b[0m\n\u001b[1;32m    223\u001b[0m         \u001b[0;31m# .. then intersect them with each other and zero\u001b[0m\u001b[0;34m\u001b[0m\u001b[0;34m\u001b[0m\u001b[0;34m\u001b[0m\u001b[0m\n\u001b[0;32m--> 224\u001b[0;31m         \u001b[0mweights\u001b[0m\u001b[0;34m[\u001b[0m\u001b[0mi\u001b[0m\u001b[0;34m]\u001b[0m \u001b[0;34m=\u001b[0m \u001b[0mnp\u001b[0m\u001b[0;34m.\u001b[0m\u001b[0mmaximum\u001b[0m\u001b[0;34m(\u001b[0m\u001b[0;36m0\u001b[0m\u001b[0;34m,\u001b[0m \u001b[0mnp\u001b[0m\u001b[0;34m.\u001b[0m\u001b[0mminimum\u001b[0m\u001b[0;34m(\u001b[0m\u001b[0mlower\u001b[0m\u001b[0;34m,\u001b[0m \u001b[0mupper\u001b[0m\u001b[0;34m)\u001b[0m\u001b[0;34m)\u001b[0m\u001b[0;34m\u001b[0m\u001b[0;34m\u001b[0m\u001b[0m\n\u001b[0m\u001b[1;32m    225\u001b[0m \u001b[0;34m\u001b[0m\u001b[0m\n\u001b[1;32m    226\u001b[0m     \u001b[0;32mif\u001b[0m \u001b[0mnorm\u001b[0m \u001b[0;32min\u001b[0m \u001b[0;34m(\u001b[0m\u001b[0;36m1\u001b[0m\u001b[0;34m,\u001b[0m \u001b[0;34m'slaney'\u001b[0m\u001b[0;34m)\u001b[0m\u001b[0;34m:\u001b[0m\u001b[0;34m\u001b[0m\u001b[0;34m\u001b[0m\u001b[0m\n",
            "\u001b[0;31mKeyboardInterrupt\u001b[0m: "
          ]
        }
      ]
    },
    {
      "cell_type": "code",
      "metadata": {
        "id": "omlvGTbGopMW",
        "colab_type": "code",
        "colab": {}
      },
      "source": [
        ""
      ],
      "execution_count": 0,
      "outputs": []
    }
  ]
}